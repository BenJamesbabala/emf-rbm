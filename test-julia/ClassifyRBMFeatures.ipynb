{
 "cells": [
  {
   "cell_type": "markdown",
   "metadata": {},
   "source": [
    "### compute classification accuracy using EMF RBM features\n",
    "\n",
    "#### this could be automated"
   ]
  },
  {
   "cell_type": "code",
   "execution_count": 5,
   "metadata": {
    "ExecuteTime": {
     "end_time": "2016-10-20T11:09:53.784288",
     "start_time": "2016-10-20T11:09:53.779952"
    },
    "collapsed": true
   },
   "outputs": [],
   "source": [
    "import numpy as np\n",
    "import h5py\n",
    "\n",
    "from sklearn.neural_network import BernoulliRBM\n",
    "from sklearn import linear_model, datasets, metrics, preprocessing \n",
    "from sklearn.cross_validation import train_test_split\n",
    "from sklearn.metrics import accuracy_score"
   ]
  },
  {
   "cell_type": "markdown",
   "metadata": {},
   "source": [
    "### Read same MNIST data"
   ]
  },
  {
   "cell_type": "code",
   "execution_count": 6,
   "metadata": {
    "ExecuteTime": {
     "end_time": "2016-10-20T11:09:56.947160",
     "start_time": "2016-10-20T11:09:54.270538"
    },
    "collapsed": false
   },
   "outputs": [
    {
     "name": "stdout",
     "output_type": "stream",
     "text": [
      "('List of arrays in this file: \\n', [u'HDF5.name___X', u'HDF5.name___y'])\n",
      "(60000, 784) (60000,)\n",
      "2117.63422548\n"
     ]
    }
   ],
   "source": [
    "hf =  h5py.File('mnist.h5','r')\n",
    "print('List of arrays in this file: \\n', hf.keys())\n",
    "X = np.array(hf.get('HDF5.name___X'))\n",
    "y = np.array(hf.get('HDF5.name___y'))\n",
    "\n",
    "print X.shape, y.shape\n",
    "hf.close()\n",
    "print np.linalg.norm(X, ord=2)"
   ]
  },
  {
   "cell_type": "code",
   "execution_count": 7,
   "metadata": {
    "ExecuteTime": {
     "end_time": "2016-10-20T11:09:56.959075",
     "start_time": "2016-10-20T11:09:56.948615"
    },
    "collapsed": false,
    "scrolled": true
   },
   "outputs": [
    {
     "name": "stdout",
     "output_type": "stream",
     "text": [
      "('List of arrays in this file: \\n', [u'mnist___bias', u'mnist___vbias', u'mnist___weight'])\n",
      "(256,) (784,) (256, 784)\n"
     ]
    }
   ],
   "source": [
    "hf =  h5py.File('mnist.tap3.fp.a10.h5','r')\n",
    "print('List of arrays in this file: \\n', hf.keys())\n",
    "b = np.array(hf.get('mnist___bias'))\n",
    "vb = np.array(hf.get('mnist___vbias'))\n",
    "w = np.array(hf.get('mnist___weight'))\n",
    "\n",
    "print b.shape, vb.shape, w.shape\n",
    "hf.close()"
   ]
  },
  {
   "cell_type": "code",
   "execution_count": 8,
   "metadata": {
    "ExecuteTime": {
     "end_time": "2016-10-20T11:09:56.965990",
     "start_time": "2016-10-20T11:09:56.961185"
    },
    "collapsed": true
   },
   "outputs": [],
   "source": [
    "from sklearn.utils.fixes import expit    \n",
    "from sklearn.utils.extmath import safe_sparse_dot\n",
    "\n",
    "def sig_means(x, b, W):\n",
    "    a = safe_sparse_dot(x, W.T) + b\n",
    "    return expit(a, out=a)"
   ]
  },
  {
   "cell_type": "code",
   "execution_count": 9,
   "metadata": {
    "ExecuteTime": {
     "end_time": "2016-10-20T11:13:28.198569",
     "start_time": "2016-10-20T11:09:56.968416"
    },
    "collapsed": false,
    "scrolled": false
   },
   "outputs": [
    {
     "name": "stdout",
     "output_type": "stream",
     "text": [
      "(48000, 256) (12000, 256)\n",
      "5000 0.952666666667\n"
     ]
    }
   ],
   "source": [
    "p = sig_means(X, b, w)\n",
    "X_train, X_test, Y_train, Y_test = train_test_split(p, y, test_size=0.2,random_state=0)\n",
    "print X_train.shape, X_test.shape\n",
    "\n",
    "for c in [5000]:\n",
    "    lr  = linear_model.LogisticRegression()\n",
    "    lr.C = c\n",
    "    lr.fit(X_train, Y_train)\n",
    "    Y_test_pred = lr.predict(X_test)\n",
    "    acc = accuracy_score(Y_test, Y_test_pred)\n",
    "\n",
    "    print c, acc"
   ]
  },
  {
   "cell_type": "markdown",
   "metadata": {
    "collapsed": true
   },
   "source": [
    "mnist.tap2.fp.a3.h5  0.951  \n",
    "mnist.tap2.fp.a6.h5  0.952916  \n",
    "mnist.tap2.fp.a10.h5 0.9511666\n",
    "\n",
    "mnist.tap3.fp.a3.h5  0.95125    \n",
    "mnist.tap3.fp.a6.h5  0.95125 ?\n",
    "mnist.tap3.fp.a10.h5 0.95267\n",
    "\n",
    "mnist.cd.fp.a3.h5    0.95366  \n",
    "mnist.cd.p.a3.h5     0.95325\n",
    "\n",
    "mnist.cd.fp.a6.h5    0.95541    \n"
   ]
  },
  {
   "cell_type": "code",
   "execution_count": null,
   "metadata": {
    "ExecuteTime": {
     "end_time": "2016-10-20T10:07:06.054101",
     "start_time": "2016-10-20T10:07:05.907269"
    },
    "collapsed": false
   },
   "outputs": [],
   "source": [
    "!ls *h5"
   ]
  },
  {
   "cell_type": "code",
   "execution_count": null,
   "metadata": {
    "collapsed": true
   },
   "outputs": [],
   "source": []
  }
 ],
 "metadata": {
  "anaconda-cloud": {},
  "kernelspec": {
   "display_name": "Python [Root]",
   "language": "python",
   "name": "Python [Root]"
  },
  "language_info": {
   "codemirror_mode": {
    "name": "ipython",
    "version": 2
   },
   "file_extension": ".py",
   "mimetype": "text/x-python",
   "name": "python",
   "nbconvert_exporter": "python",
   "pygments_lexer": "ipython2",
   "version": "2.7.12"
  }
 },
 "nbformat": 4,
 "nbformat_minor": 0
}

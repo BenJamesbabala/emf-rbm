{
 "cells": [
  {
   "cell_type": "markdown",
   "metadata": {},
   "source": [
    "#  RBM Analysis\n",
    "\n",
    "Example of the distribution of initial and final Free Energies for a vanilla RBM\n"
   ]
  },
  {
   "cell_type": "code",
   "execution_count": 1,
   "metadata": {
    "ExecuteTime": {
     "end_time": "2016-10-05T20:22:12.992296",
     "start_time": "2016-10-05T20:22:11.464311"
    },
    "collapsed": false
   },
   "outputs": [
    {
     "name": "stderr",
     "output_type": "stream",
     "text": [
      "/Users/charlesmartin14/anaconda/lib/python2.7/site-packages/matplotlib/font_manager.py:273: UserWarning: Matplotlib is building the font cache using fc-list. This may take a moment.\n",
      "  warnings.warn('Matplotlib is building the font cache using fc-list. This may take a moment.')\n"
     ]
    }
   ],
   "source": [
    "import numpy as np\n",
    "import h5py\n",
    "\n",
    "import matplotlib\n",
    "import matplotlib as mpl\n",
    "import matplotlib.pyplot as plt\n",
    "%matplotlib inline \n",
    "\n",
    "from sklearn import linear_model, datasets, metrics, preprocessing \n",
    "from sklearn.cross_validation import train_test_split\n",
    "from sklearn.metrics import accuracy_score"
   ]
  },
  {
   "cell_type": "code",
   "execution_count": 2,
   "metadata": {
    "ExecuteTime": {
     "end_time": "2016-10-05T20:22:13.305579",
     "start_time": "2016-10-05T20:22:13.154207"
    },
    "collapsed": false
   },
   "outputs": [
    {
     "name": "stdout",
     "output_type": "stream",
     "text": [
      "(1797, 64)\n"
     ]
    }
   ],
   "source": [
    "from sklearn.datasets import load_digits\n",
    "from sklearn.utils.validation import assert_all_finite\n",
    "from scipy.sparse import csc_matrix, csr_matrix, lil_matrix\n",
    "from sklearn.utils.testing import (assert_almost_equal, assert_array_equal,\n",
    "                                   assert_true)\n",
    "\n",
    "\n",
    "from sklearn.preprocessing import Binarizer\n",
    "np.seterr(all='warn')\n",
    "\n",
    "Xdigits = load_digits().data\n",
    "Xdigits -= Xdigits.min()\n",
    "Xdigits /= Xdigits.max()\n",
    "\n",
    "b = Binarizer(threshold=0.001, copy=True)\n",
    "Xdigits = b.fit_transform(Xdigits)\n",
    "print Xdigits.shape"
   ]
  },
  {
   "cell_type": "markdown",
   "metadata": {
    "collapsed": true
   },
   "source": [
    "## Anaylsis of RBM stochastic properties\n",
    "\n",
    "### We see the variations are difficult to unit test, and, really, to compare \n",
    "\n",
    "- variations in norms of W, hb, vb, FE, samples, etc\n",
    "- study per epoch, and after N epochs\n"
   ]
  },
  {
   "cell_type": "code",
   "execution_count": 3,
   "metadata": {
    "ExecuteTime": {
     "end_time": "2016-10-05T20:22:14.265901",
     "start_time": "2016-10-05T20:22:14.261885"
    },
    "collapsed": true
   },
   "outputs": [],
   "source": [
    "from sklearn.neural_network import BernoulliRBM\n",
    "X = Xdigits.copy()\n"
   ]
  },
  {
   "cell_type": "code",
   "execution_count": 6,
   "metadata": {
    "ExecuteTime": {
     "end_time": "2016-10-05T20:27:26.793577",
     "start_time": "2016-10-05T20:22:57.672591"
    },
    "collapsed": false,
    "scrolled": true
   },
   "outputs": [
    {
     "name": "stdout",
     "output_type": "stream",
     "text": [
      "0 100 200 300 400 500 600 700 800 900 1000 1100 1200 1300 1400 1500 1600 1700 1800 1900 2000 2100 2200 2300 2400 2500 2600 2700 2800 2900 3000 3100 3200 3300 3400 3500 3600 3700 3800 3900 4000 4100 4200 4300 4400 4500 4600 4700 4800 4900 5000 5100 5200 5300 5400 5500 5600 5700 5800 5900 6000 6100 6200 6300 6400 6500 6600 6700 6800 6900 7000 7100 7200 7300 7400 7500 7600 7700 7800 7900 8000 8100 8200 8300 8400 8500 8600 8700 8800 8900 9000 9100 9200 9300 9400 9500 9600 9700 9800 9900\n"
     ]
    }
   ],
   "source": [
    "def one_epoch_Brbm(X):\n",
    "    rbm1 = BernoulliRBM(n_components=64, batch_size=20,\n",
    "                  learning_rate=0.005, verbose=False, n_iter=1)\n",
    "    rbm1.fit(X);\n",
    "    return rbm1\n",
    "\n",
    "ws1, vbs1, hbs1, scores1 = [], [], [], []\n",
    "for i in range(10000):\n",
    "    rbm1 = one_epoch_Brbm(X)\n",
    "    ws1.append(np.linalg.norm(rbm1.components_,ord=2))\n",
    "    vbs1.append(np.linalg.norm(rbm1.intercept_visible_,ord=2))\n",
    "    hbs1.append(np.linalg.norm(rbm1.intercept_hidden_,ord=2))\n",
    "    scores1.append(np.average(rbm1.score_samples(X)))\n",
    "    if (i%100 == 0):\n",
    "        print i,"
   ]
  },
  {
   "cell_type": "code",
   "execution_count": 7,
   "metadata": {
    "ExecuteTime": {
     "end_time": "2016-10-05T21:32:38.083910",
     "start_time": "2016-10-05T20:28:10.900677"
    },
    "collapsed": false,
    "scrolled": false
   },
   "outputs": [
    {
     "name": "stdout",
     "output_type": "stream",
     "text": [
      "0 100 200 300 400 500 600 700 800 900 1000 1100 1200 1300 1400 1500 1600 1700 1800 1900 2000 2100 2200 2300 2400 2500 2600 2700 2800 2900 3000 3100 3200 3300 3400 3500 3600 3700 3800 3900 4000 4100 4200 4300 4400 4500 4600 4700 4800 4900 5000 5100 5200 5300 5400 5500 5600 5700 5800 5900 6000 6100 6200 6300 6400 6500 6600 6700 6800 6900 7000 7100 7200 7300 7400 7500 7600 7700 7800 7900 8000 8100 8200 8300 8400 8500 8600 8700 8800 8900 9000 9100 9200 9300 9400 9500 9600 9700 9800 9900\n"
     ]
    }
   ],
   "source": [
    "def twenty_epochs_Brbm(X):\n",
    "    rbm20 = BernoulliRBM(n_components=64, batch_size=20,\n",
    "                  learning_rate=0.005, verbose=False, n_iter=20)\n",
    "    rbm20.fit(X);\n",
    "    return rbm20\n",
    "\n",
    "ws20, vbs20, hbs20, scores20 = [], [], [], []\n",
    "X = Xdigits.copy()\n",
    "\n",
    "for i in range(10000):\n",
    "    rbm20 = twenty_epochs_Brbm(X)\n",
    "    ws20.append(np.linalg.norm(rbm20.components_,ord=2))\n",
    "    vbs20.append(np.linalg.norm(rbm20.intercept_visible_,ord=2))\n",
    "    hbs20.append(np.linalg.norm(rbm20.intercept_hidden_,ord=2))\n",
    "    scores20.append(np.average(rbm20.score_samples(X)))\n",
    "    if (i%100 == 0):\n",
    "        print i,"
   ]
  },
  {
   "cell_type": "code",
   "execution_count": null,
   "metadata": {
    "ExecuteTime": {
     "end_time": "2016-10-05T14:38:35.325869",
     "start_time": "2016-10-05T14:37:48.096945"
    },
    "collapsed": false
   },
   "outputs": [],
   "source": []
  },
  {
   "cell_type": "code",
   "execution_count": 8,
   "metadata": {
    "ExecuteTime": {
     "end_time": "2016-10-05T21:37:11.218342",
     "start_time": "2016-10-05T21:37:10.572396"
    },
    "collapsed": false,
    "scrolled": true
   },
   "outputs": [
    {
     "data": {
      "text/plain": [
       "<matplotlib.text.Text at 0x118a4e350>"
      ]
     },
     "execution_count": 8,
     "metadata": {},
     "output_type": "execute_result"
    },
    {
     "data": {
      "image/png": "[encoded data removed]",
      "text/plain": [
       "<matplotlib.figure.Figure at 0x112ab4450>"
      ]
     },
     "metadata": {},
     "output_type": "display_data"
    }
   ],
   "source": [
    "plt.hist(scores1,100, color='r', alpha = 0.5);\n",
    "plt.hist(scores20,100, color='g', alpha = 0.5);\n",
    "\n",
    "\n",
    "plt.title(\"dist of initial and final free energies\")"
   ]
  },
  {
   "cell_type": "code",
   "execution_count": 9,
   "metadata": {
    "ExecuteTime": {
     "end_time": "2016-10-05T21:37:11.877934",
     "start_time": "2016-10-05T21:37:11.219821"
    },
    "collapsed": false,
    "scrolled": true
   },
   "outputs": [
    {
     "data": {
      "text/plain": [
       "<matplotlib.text.Text at 0x1196749d0>"
      ]
     },
     "execution_count": 9,
     "metadata": {},
     "output_type": "execute_result"
    },
    {
     "data": {
      "image/png": "[encoded data removed]",
      "text/plain": [
       "<matplotlib.figure.Figure at 0x118aa2450>"
      ]
     },
     "metadata": {},
     "output_type": "display_data"
    }
   ],
   "source": [
    "plt.hist(vbs1,100, color='red');\n",
    "plt.hist(vbs20,100, color='green');\n",
    "\n",
    "plt.title(\"dist of |v_bias| norms\")"
   ]
  },
  {
   "cell_type": "code",
   "execution_count": 10,
   "metadata": {
    "ExecuteTime": {
     "end_time": "2016-10-05T21:37:12.521180",
     "start_time": "2016-10-05T21:37:11.879555"
    },
    "collapsed": false,
    "scrolled": false
   },
   "outputs": [
    {
     "data": {
      "text/plain": [
       "<matplotlib.text.Text at 0x119c989d0>"
      ]
     },
     "execution_count": 10,
     "metadata": {},
     "output_type": "execute_result"
    },
    {
     "data": {
      "image/png": "[encoded data removed]",
      "text/plain": [
       "<matplotlib.figure.Figure at 0x1196bebd0>"
      ]
     },
     "metadata": {},
     "output_type": "display_data"
    }
   ],
   "source": [
    "plt.hist(hbs1,100, color='red');\n",
    "plt.hist(hbs20,100, color='green');\n",
    "\n",
    "plt.title(\"dist of |h_bias| norms\")"
   ]
  },
  {
   "cell_type": "markdown",
   "metadata": {
    "collapsed": true
   },
   "source": [
    "## The Free Energies are easily fit to a Guassian"
   ]
  },
  {
   "cell_type": "code",
   "execution_count": 88,
   "metadata": {
    "ExecuteTime": {
     "end_time": "2016-10-05T22:53:20.447408",
     "start_time": "2016-10-05T22:53:16.124114"
    },
    "collapsed": false,
    "scrolled": true
   },
   "outputs": [
    {
     "data": {
      "image/png": "[encoded data removed]",
      "text/plain": [
       "<matplotlib.figure.Figure at 0x11dcbd090>"
      ]
     },
     "metadata": {},
     "output_type": "display_data"
    }
   ],
   "source": [
    "from sklearn.neighbors.kde import KernelDensity\n",
    "from scipy.stats import norm\n",
    "X = np.array(scores20)[:, None]\n",
    "X_plot = np.linspace(-21, -29, X.shape[0])[:, None]\n",
    "\n",
    "kde = KernelDensity(kernel='gaussian', bandwidth=0.2).fit(X)\n",
    "log_dens = kde.score_samples(X_plot)\n",
    "plt.plot(X_plot[:, 0], np.exp(log_dens), '-')\n",
    "\n",
    "plt.title('Fit of (final) Free Energies to Gaussian')\n",
    "plt.hist(scores20,bins=100, normed=True, alpha=0.5)\n",
    "plt.show()"
   ]
  },
  {
   "cell_type": "code",
   "execution_count": 90,
   "metadata": {
    "ExecuteTime": {
     "end_time": "2016-10-05T22:56:16.709458",
     "start_time": "2016-10-05T22:56:12.532777"
    },
    "collapsed": false
   },
   "outputs": [
    {
     "data": {
      "image/png": "[encoded data removed]",
      "text/plain": [
       "<matplotlib.figure.Figure at 0x11b81fc90>"
      ]
     },
     "metadata": {},
     "output_type": "display_data"
    }
   ],
   "source": [
    "from sklearn.neighbors.kde import KernelDensity\n",
    "from scipy.stats import norm\n",
    "X = np.array(scores1)[:, None]\n",
    "X_plot = np.linspace(-21, -29, X.shape[0])[:, None]\n",
    "\n",
    "kde = KernelDensity(kernel='gaussian', bandwidth=0.2).fit(X)\n",
    "log_dens = kde.score_samples(X_plot)\n",
    "plt.plot(X_plot[:, 0], np.exp(log_dens), '-')\n",
    "\n",
    "plt.title('Fit of (initial) Free Energies to Gaussian')\n",
    "plt.hist(scores1,bins=100, normed=True, alpha=0.5, color='red')\n",
    "plt.show()"
   ]
  },
  {
   "cell_type": "code",
   "execution_count": null,
   "metadata": {
    "collapsed": true
   },
   "outputs": [],
   "source": []
  }
 ],
 "metadata": {
  "anaconda-cloud": {},
  "kernelspec": {
   "display_name": "Python [Root]",
   "language": "python",
   "name": "Python [Root]"
  },
  "language_info": {
   "codemirror_mode": {
    "name": "ipython",
    "version": 2
   },
   "file_extension": ".py",
   "mimetype": "text/x-python",
   "name": "python",
   "nbconvert_exporter": "python",
   "pygments_lexer": "ipython2",
   "version": "2.7.12"
  }
 },
 "nbformat": 4,
 "nbformat_minor": 0
}

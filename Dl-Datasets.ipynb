{
 "cells": [
  {
   "cell_type": "markdown",
   "metadata": {
    "ExecuteTime": {
     "end_time": "2016-09-21T14:29:16.716953",
     "start_time": "2016-09-21T14:29:16.714250"
    }
   },
   "source": [
    "## RBM Datasets\n",
    "\n",
    "- Caltech silloette\n",
    "\n",
    "- omniglot\n",
    "- binarized mnist\n",
    "- norb\n",
    "- svnh \n",
    "- frey faces\n",
    "- cifar10\n",
    "- lfw\n",
    "\n",
    "\n",
    "#### need  to integrate\n",
    "\n",
    "- alignMnist\n",
    "- Yale face\n",
    "\n",
    "- Olivetti Faces (sklearn)\n",
    "- Weizmann Horses\n",
    "- Caltech faces\n",
    "- sketchy\n",
    "\n",
    "-\n",
    "\n",
    "<font color='red'>TODO:  systematically get each data set working, and running in RBM (binarized)</font>"
   ]
  },
  {
   "cell_type": "markdown",
   "metadata": {},
   "source": [
    "#### rbm_datasets.py\n",
    "\n",
    "Taken mostly from the \"parmesan\" package:\n",
    "\n",
    "https://github.com/casperkaae/parmesan/blob/master/parmesan/datasets.py\n",
    "\n",
    "for variational autoencoders\n",
    "\n",
    "\n",
    "\n",
    "see also\n",
    "\n",
    "http://deeplearning.net/datasets/\n",
    "\n"
   ]
  },
  {
   "cell_type": "code",
   "execution_count": 1,
   "metadata": {
    "ExecuteTime": {
     "end_time": "2016-10-18T21:14:14.669265",
     "start_time": "2016-10-18T21:14:06.791007"
    },
    "collapsed": false,
    "scrolled": true
   },
   "outputs": [
    {
     "name": "stderr",
     "output_type": "stream",
     "text": [
      "/Users/charlesmartin14/anaconda/lib/python2.7/site-packages/matplotlib/font_manager.py:273: UserWarning: Matplotlib is building the font cache using fc-list. This may take a moment.\n",
      "  warnings.warn('Matplotlib is building the font cache using fc-list. This may take a moment.')\n"
     ]
    }
   ],
   "source": [
    "## %load rbm_datasets.py \n",
    "## %writefile rbm_datasets.py\n",
    "\n",
    "import numpy as np\n",
    "import pickle as pkl\n",
    "import cPickle as cPkl\n",
    "import gzip, zipfile, tarfile\n",
    "import os, shutil, re, string, urllib, fnmatch\n",
    "from matplotlib import pyplot\n",
    "import matplotlib as mpl\n",
    "from scipy.io import loadmat\n",
    "%matplotlib inline  \n",
    "\n",
    "def show_image(image): \n",
    "    fig = pyplot.figure()\n",
    "    ax = fig.add_subplot(1,1,1)\n",
    "    imgplot = ax.imshow(image, cmap=mpl.cm.Greys)\n",
    "    imgplot.set_interpolation('nearest')\n",
    "    ax.xaxis.set_ticks_position('top')\n",
    "    ax.yaxis.set_ticks_position('left')\n",
    "    pyplot.show()\n",
    "    \n",
    "\n",
    "def _get_datafolder_path():\n",
    "    full_path = os.path.abspath('.')\n",
    "    path = full_path +'/data'\n",
    "    return path\n",
    "\n",
    "def _unpickle(f):\n",
    "    import cPickle\n",
    "    fo = open(f, 'rb')\n",
    "    d = cPickle.load(fo)\n",
    "    fo.close()\n",
    "    return d\n",
    "\n",
    "def _download_frey_faces(dataset):\n",
    "    \"\"\"\n",
    "    Download the Frey Faces dataset if it is not present.\n",
    "    :return: The train, test and validation set.\n",
    "    \"\"\"\n",
    "    origin = (\n",
    "        'http://www.cs.nyu.edu/~roweis/data/frey_rawface.mat'\n",
    "    )\n",
    "    print 'Downloading data from %s' % origin\n",
    "    urllib.urlretrieve(origin, dataset+'.mat')\n",
    "    matdata = loadmat(dataset)\n",
    "    f = gzip.open(dataset +'.pkl.gz', 'w')\n",
    "    pkl.dump([matdata['ff'].T],f)\n",
    "    \n",
    "    \n",
    "def _download_caltech(dataset):\n",
    "    \"\"\"\n",
    "    Download the Caltech Silhouettes dataset if it is not present.\n",
    "    :return: The train, test and validation set.\n",
    "    \"\"\"\n",
    "    origin = (\n",
    "    'https://people.cs.umass.edu/~marlin/data/caltech101_silhouettes_28_split1.mat'\n",
    "    )\n",
    "    print 'Downloading data from %s' % origin\n",
    "    print 'dataset.mat %s' % dataset\n",
    "\n",
    "    urllib.urlretrieve(origin, dataset)\n",
    "    matdata = loadmat(dataset)\n",
    "    print \"keys \",matdata.keys()\n",
    "\n",
    "    train_x = matdata['train_data'].astype('float32')\n",
    "    train_y = matdata['train_labels'].astype('int')\n",
    "    valid_x = matdata['val_data'].astype('float32')\n",
    "    valid_y = matdata['val_labels'].astype('int')\n",
    "    test_x = matdata['test_data'].astype('float32')\n",
    "    test_y = matdata['test_labels'].astype('int')\n",
    "    print train_x.shape, train_y.shape, valid_x.shape, valid_y.shape, test_x.shape, test_y.shape\n",
    "\n",
    "\n",
    "    with open(dataset +'.pkl', 'w') as f:\n",
    "                pkl.dump([train_x, train_y, valid_x, valid_y, test_x, test_y], f,\n",
    "                         protocol=cPkl.HIGHEST_PROTOCOL)\n",
    "\n",
    "    \n",
    "\n",
    "def _download_mnist_realval(dataset):\n",
    "    \"\"\"\n",
    "    Download the MNIST dataset if it is not present.\n",
    "    :return: The train, test and validation set.\n",
    "    \"\"\"\n",
    "    origin = (\n",
    "        'http://www.iro.umontreal.ca/~lisa/deep/data/mnist/mnist.pkl.gz'\n",
    "    )\n",
    "    print 'Downloading data from %s' % origin\n",
    "    urllib.urlretrieve(origin, dataset)\n",
    "\n",
    "def _download_omniglot_iwae(dataset):\n",
    "    \"\"\"\n",
    "    Download the Omniglot dataset if it is not present.\n",
    "    :return: The train, test and validation set.\n",
    "    \"\"\"\n",
    "    origin = (\n",
    "        'https://github.com/yburda/iwae/raw/'\n",
    "        'master/datasets/OMNIGLOT/chardata.mat'\n",
    "    )\n",
    "    print 'Downloading data from %s' % origin\n",
    "    urllib.urlretrieve(origin, dataset + '/chardata.mat')\n",
    "\n",
    "\n",
    "def _download_norb_small(dataset):\n",
    "    \"\"\"\n",
    "    Download the Norb dataset\n",
    "    \"\"\"\n",
    "    print 'Downloading small resized norb data'\n",
    "\n",
    "    urllib.urlretrieve('http://dl.dropbox.com/u/13294233/smallnorb/smallnorb-'\n",
    "                       '5x46789x9x18x6x2x32x32-training-dat-matlab-bicubic.mat',\n",
    "                       dataset + '/smallnorb_train_x.mat')\n",
    "    urllib.urlretrieve('http://dl.dropbox.com/u/13294233/smallnorb/smallnorb-'\n",
    "                       '5x46789x9x18x6x2x96x96-training-cat-matlab.mat',\n",
    "                       dataset + '/smallnorb_train_t.mat')\n",
    "\n",
    "    urllib.urlretrieve('http://dl.dropbox.com/u/13294233/smallnorb/smallnorb-'\n",
    "                       '5x01235x9x18x6x2x32x32-testing-dat-matlab-bicubic.mat',\n",
    "                       dataset + '/smallnorb_test_x.mat')\n",
    "    urllib.urlretrieve('http://dl.dropbox.com/u/13294233/smallnorb/smallnorb-'\n",
    "                       '5x01235x9x18x6x2x96x96-testing-cat-matlab.mat',\n",
    "                       dataset + '/smallnorb_test_t.mat')\n",
    "\n",
    "    data = loadmat(dataset + '/smallnorb_train_x.mat')['traindata']\n",
    "    train_x = np.concatenate([data[:,0,:].T, data[:,0,:].T]).astype('float32')\n",
    "    data = loadmat(dataset + '/smallnorb_train_t.mat')\n",
    "    train_t = data['trainlabels'].flatten().astype('float32')\n",
    "    train_t = np.concatenate([train_t, train_t])\n",
    "\n",
    "    data = loadmat(dataset + '/smallnorb_test_x.mat')['testdata']\n",
    "    test_x = np.concatenate([data[:,0,:].T, data[:,0,:].T]).astype('float32')\n",
    "    data = loadmat(dataset + '/smallnorb_test_t.mat')\n",
    "    test_t = data['testlabels'].flatten().astype('float32')\n",
    "    test_t = np.concatenate([test_t, test_t])\n",
    "    with open(dataset+'/norbsmall32x32.cpkl','w') as f:\n",
    "        cPkl.dump([train_x, train_t, test_x, test_t], f,\n",
    "                  protocol=cPkl.HIGHEST_PROTOCOL)\n",
    "\n",
    "\n",
    "def _download_rotten_tomatoes(dataset):\n",
    "    origin = ('http://www.cs.cornell.edu/people/pabo/'\n",
    "              'movie-review-data/rt-polaritydata.tar.gz')\n",
    "\n",
    "    print 'Downloading data from %s' % origin\n",
    "    urllib.urlretrieve(origin, dataset + '/rt-polaritydata.tar.gz')\n",
    "\n",
    "\n",
    "def load_norb_small(\n",
    "        dataset=_get_datafolder_path()+'/norb_small/norbsmall32x32.cpkl',\n",
    "        dequantify=True,\n",
    "        normalize=True ):\n",
    "    '''\n",
    "    Loads the real valued MNIST dataset\n",
    "    :param dataset: path to dataset file\n",
    "    :return: None\n",
    "    '''\n",
    "    if not os.path.isfile(dataset):\n",
    "        datasetfolder = os.path.dirname(dataset)\n",
    "        if not os.path.exists(datasetfolder):\n",
    "            os.makedirs(datasetfolder)\n",
    "        _download_norb_small(datasetfolder)\n",
    "\n",
    "    with open(dataset,'r') as f:\n",
    "        train_x, train_t, test_x, test_t = cPkl.load(f)\n",
    "\n",
    "    if dequantify:\n",
    "        train_x += np.random.uniform(0,1,size=train_x.shape).astype('float32')\n",
    "        test_x += np.random.uniform(0,1,size=test_x.shape).astype('float32')\n",
    "    if normalize:\n",
    "        normalizer = train_x.max().astype('float32')\n",
    "        train_x = train_x / normalizer\n",
    "        test_x = test_x / normalizer\n",
    "\n",
    "    return train_x, train_t, test_x, test_t\n",
    "\n",
    "\n",
    "def _download_omniglot(dataset):\n",
    "    \"\"\"\n",
    "    Download the omniglot dataset if it is not present.\n",
    "    :return: The train, test and validation set.\n",
    "    \"\"\"\n",
    "    from scipy.misc import imread,imresize\n",
    "    origin_eval = (\n",
    "        \"https://github.com/brendenlake/omniglot/\"\n",
    "        \"raw/master/python/images_evaluation.zip\"\n",
    "    )\n",
    "    origin_back = (\n",
    "        \"https://github.com/brendenlake/omniglot/\"\n",
    "        \"raw/master/python/images_background.zip\"\n",
    "    )\n",
    "    print 'Downloading data from %s' % origin_eval\n",
    "    urllib.urlretrieve(origin_eval, dataset + '/images_evaluation.zip')\n",
    "    print 'Downloading data from %s' % origin_back\n",
    "    urllib.urlretrieve(origin_back, dataset + '/images_background.zip')\n",
    "\n",
    "    with zipfile.ZipFile(dataset + '/images_evaluation.zip', \"r\") as z:\n",
    "        z.extractall(dataset)\n",
    "    with zipfile.ZipFile(dataset + '/images_background.zip', \"r\") as z:\n",
    "        z.extractall(dataset)\n",
    "\n",
    "    background =  dataset + '/images_background'\n",
    "    evaluation =  dataset + '/images_evaluation'\n",
    "    matches = []\n",
    "    for root, dirnames, filenames in os.walk(background):\n",
    "        for filename in fnmatch.filter(filenames, '*.png'):\n",
    "            matches.append(os.path.join(root, filename))\n",
    "    for root, dirnames, filenames in os.walk(evaluation):\n",
    "        for filename in fnmatch.filter(filenames, '*.png'):\n",
    "            matches.append(os.path.join(root, filename))\n",
    "\n",
    "    train = []\n",
    "    test = []\n",
    "\n",
    "    def _load_image(fn):\n",
    "        image = imread(fn, True)\n",
    "        image = imresize(image, (32, 32), interp='bicubic')\n",
    "        image = image.reshape((-1))\n",
    "        image = np.abs(image-255.)/255.\n",
    "        return image\n",
    "\n",
    "    for p in matches:\n",
    "        if any(x in p for x in ['16.png','17.png','18.png','19.png','20.png']):\n",
    "            test.append(_load_image(p))\n",
    "        else:\n",
    "            train.append(_load_image(p))\n",
    "\n",
    "    shutil.rmtree(background+'/')\n",
    "    shutil.rmtree(evaluation+'/')\n",
    "\n",
    "    test = np.asarray(test)\n",
    "    train = np.asarray(train)\n",
    "    with open(dataset+'/omniglot.cpkl','w') as f:\n",
    "        cPkl.dump([train, test],f,protocol=cPkl.HIGHEST_PROTOCOL)\n",
    "\n",
    "\n",
    "def _download_lwf(dataset,size):\n",
    "    from sklearn.datasets import fetch_lfw_people\n",
    "    '''\n",
    "    :param dataset:\n",
    "    :return:\n",
    "    '''\n",
    "    lfw_people = fetch_lfw_people(color=True,resize=size)\n",
    "    f = gzip.open(dataset, 'w')\n",
    "    cPkl.dump([lfw_people.images.astype('uint8'),lfw_people.target], f,\n",
    "              protocol=cPkl.HIGHEST_PROTOCOL)\n",
    "    f.close()\n",
    "\n",
    "\n",
    "def _download_mnist_binarized(datapath):\n",
    "    \"\"\"\n",
    "    Download the fized binzarized MNIST dataset if it is not present.\n",
    "    :return: The train, test and validation set.\n",
    "    \"\"\"\n",
    "    datafiles = {\n",
    "        \"train\": \"http://www.cs.toronto.edu/~larocheh/public/\"\n",
    "                 \"datasets/binarized_mnist/binarized_mnist_train.amat\",\n",
    "        \"valid\": \"http://www.cs.toronto.edu/~larocheh/public/datasets/\"\n",
    "                 \"binarized_mnist/binarized_mnist_valid.amat\",\n",
    "        \"test\": \"http://www.cs.toronto.edu/~larocheh/public/datasets/\"\n",
    "                \"binarized_mnist/binarized_mnist_test.amat\"\n",
    "    }\n",
    "    datasplits = {}\n",
    "    for split in datafiles.keys():\n",
    "        print \"Downloading %s data...\" %(split)\n",
    "        local_file = datapath + '/binarized_mnist_%s.npy'%(split)\n",
    "        datasplits[split] = np.loadtxt(urllib.urlretrieve(datafiles[split])[0])\n",
    "\n",
    "    f = gzip.open(datapath +'/mnist.pkl.gz', 'w')\n",
    "    pkl.dump([datasplits['train'],datasplits['valid'],datasplits['test']],f)\n",
    "\n",
    "\n",
    "\n",
    "def load_omniglot(dataset=_get_datafolder_path()+'/omniglot'):\n",
    "    '''\n",
    "    Loads the real valued MNIST dataset\n",
    "    :param dataset: path to dataset file\n",
    "    :return: None\n",
    "    '''\n",
    "    if not os.path.exists(dataset):\n",
    "        os.makedirs(dataset)\n",
    "        _download_omniglot(dataset)\n",
    "\n",
    "    with open(dataset+'/omniglot.cpkl', 'rb') as f:\n",
    "        train, test = cPkl.load(f)\n",
    "\n",
    "    train = train.astype('float32')\n",
    "    test = test.astype('float32')\n",
    "\n",
    "    return train, test\n",
    "\n",
    "\n",
    "def load_omniglot_iwae(dataset=_get_datafolder_path()+'/omniglot_iwae'):\n",
    "    '''\n",
    "    Loads the real valued Omniglot dataset\n",
    "    :param dataset: path to dataset file\n",
    "    :return: None\n",
    "    '''\n",
    "    if not os.path.exists(dataset):\n",
    "        os.makedirs(dataset)\n",
    "        _download_omniglot_iwae(dataset)\n",
    "\n",
    "    data = loadmat(dataset+'/chardata.mat')\n",
    "\n",
    "    train_x = data['data'].astype('float32').T\n",
    "    train_t = np.argmax(data['target'].astype('float32').T,axis=1)\n",
    "    train_char = data['targetchar'].astype('float32')\n",
    "    test_x = data['testdata'].astype('float32').T\n",
    "    test_t = np.argmax(data['testtarget'].astype('float32').T,axis=1)\n",
    "    test_char = data['testtargetchar'].astype('float32')\n",
    "\n",
    "\n",
    "    return train_x, train_t, train_char, test_x, test_t, test_char\n",
    "\n",
    "\n",
    "def load_caltech_silhouettes(\n",
    "        dataset=_get_datafolder_path()+'/caltech/caltech101_silhouettes_28_split1.mat'):\n",
    "    '''\n",
    "    Loads the real valued CalTech Silhouettes dataset\n",
    "    :param dataset: path to dataset file\n",
    "    :return: None\n",
    "    '''\n",
    "    if not os.path.isfile(dataset):\n",
    "        datasetfolder = os.path.dirname(dataset)\n",
    "        if not os.path.exists(datasetfolder):\n",
    "            os.makedirs(datasetfolder)\n",
    "        _download_caltech(dataset)\n",
    "\n",
    "    with open(dataset+'.pkl','r') as f:\n",
    "        train_x, train_y, valid_x, valid_y, test_x, test_y = pkl.load(f)\n",
    "\n",
    "    return train_x, train_y, valid_x, valid_y, test_x, test_y \n",
    "\n",
    "\n",
    "def load_mnist_realval(\n",
    "        dataset=_get_datafolder_path()+'/mnist_real/mnist.pkl.gz'):\n",
    "    '''\n",
    "    Loads the real valued MNIST dataset\n",
    "    :param dataset: path to dataset file\n",
    "    :return: None\n",
    "    '''\n",
    "    if not os.path.isfile(dataset):\n",
    "        datasetfolder = os.path.dirname(dataset)\n",
    "        if not os.path.exists(datasetfolder):\n",
    "            os.makedirs(datasetfolder)\n",
    "        _download_mnist_realval(dataset)\n",
    "\n",
    "    f = gzip.open(dataset, 'rb')\n",
    "    train_set, valid_set, test_set = pkl.load(f)\n",
    "    f.close()\n",
    "    x_train, targets_train = train_set[0], train_set[1]\n",
    "    x_valid, targets_valid = valid_set[0], valid_set[1]\n",
    "    x_test, targets_test = test_set[0], test_set[1]\n",
    "    return x_train, targets_train, x_valid, targets_valid, x_test, targets_test\n",
    "\n",
    "\n",
    "def load_mnist_binarized(\n",
    "        dataset=_get_datafolder_path()+'/mnist_binarized/mnist.pkl.gz'):\n",
    "    '''\n",
    "    Loads the fixed binarized MNIST dataset provided by Hugo Larochelle.\n",
    "    :param dataset: path to dataset file\n",
    "    :return: None\n",
    "    '''\n",
    "    if not os.path.isfile(dataset):\n",
    "        datasetfolder = os.path.dirname(dataset)\n",
    "        if not os.path.exists(datasetfolder):\n",
    "            os.makedirs(datasetfolder)\n",
    "        _download_mnist_binarized(datasetfolder)\n",
    "\n",
    "    f = gzip.open(dataset, 'rb')\n",
    "    x_train, x_valid, x_test = pkl.load(f)\n",
    "    f.close()\n",
    "    return x_train, x_valid, x_test\n",
    "\n",
    "def _download_rcv1():\n",
    "    \"\"\"\n",
    "    Download the rcv1 dataset from scikitlearn.\n",
    "    :return: The train, test and validation set.\n",
    "    \"\"\"\n",
    "    from sklearn.datasets import fetch_rcv1\n",
    "    print \"downloading rcv1 train data....\"\n",
    "    newsgroups_train = fetch_rcv1(subset='train')\n",
    "    print \"downloading rcv1 test data....\"\n",
    "    newsgroups_test = fetch_rcv1(subset='test')\n",
    "    train_set = (newsgroups_train.data, newsgroups_train.target)\n",
    "    test_set = (newsgroups_test.data, newsgroups_test.target)\n",
    "\n",
    "    return train_set,test_set\n",
    "\n",
    "\n",
    "def _download_20newsgroup():\n",
    "    \"\"\"\n",
    "    Download the 20 newsgroups dataset from scikitlearn.\n",
    "    :return: The train, test and validation set.\n",
    "    \"\"\"\n",
    "    from sklearn.datasets import fetch_20newsgroups\n",
    "    print \"downloading 20 newsgroup train data....\"\n",
    "    newsgroups_train = fetch_20newsgroups(\n",
    "        subset='train', remove=('headers', 'footers', 'quotes'))\n",
    "    print \"downloading 20 newsgroup test data....\"\n",
    "    newsgroups_test = fetch_20newsgroups(\n",
    "        subset='test', remove=('headers', 'footers', 'quotes'))\n",
    "    train_set = (newsgroups_train.data, newsgroups_train.target)\n",
    "    test_set = (newsgroups_test.data, newsgroups_test.target)\n",
    "\n",
    "    return train_set,test_set\n",
    "\n",
    "def _bow(train, test, max_features=1000):\n",
    "    '''\n",
    "    bag-of-words encoding helper function\n",
    "    '''\n",
    "    from sklearn.feature_extraction.text import CountVectorizer\n",
    "    from nltk.stem import WordNetLemmatizer\n",
    "    from nltk.stem.porter import PorterStemmer as EnglishStemmer\n",
    "    from nltk.tokenize import wordpunct_tokenize as wordpunct_tokenize\n",
    "\n",
    "    x_train, y_train = train\n",
    "    x_test, y_test = test\n",
    "\n",
    "\n",
    "    stemmer = EnglishStemmer()\n",
    "    lemmatizer = WordNetLemmatizer()\n",
    "    for i in range(len(x_train)):\n",
    "        x_train[i] = \" \".join([lemmatizer.lemmatize(stemmer.stem(token.lower()))\n",
    "                               for token in wordpunct_tokenize(\n",
    "            re.sub('[%s]' % re.escape(string.punctuation), '', x_train[i]))])\n",
    "\n",
    "    vectorizer_train = CountVectorizer(strip_accents='ascii',\n",
    "                                       stop_words='english',\n",
    "                                       token_pattern=r\"(?u)\\b\\w[a-z]\\w+[a-z]\\b\",\n",
    "                                       max_features=max_features,\n",
    "                                       vocabulary=None, dtype='float32')\n",
    "    x_train = vectorizer_train.fit_transform(x_train).toarray()\n",
    "\n",
    "\n",
    "    vocab_train = vectorizer_train.get_feature_names()\n",
    "    vectorizer_test = CountVectorizer(strip_accents='ascii',\n",
    "                                      stop_words='english',\n",
    "                                      token_pattern=r\"(?u)\\b\\w[a-z]\\w+[a-z]\\b\",\n",
    "                                      max_features=max_features,\n",
    "                                      vocabulary=vocab_train,\n",
    "                                      dtype='float32')\n",
    "    x_test = vectorizer_test.fit_transform(x_test).toarray()\n",
    "\n",
    "    # remove documents with no words\n",
    "    r = np.where(x_train.sum(axis=1) > 0.)[0]\n",
    "    x_train = x_train[r, :]\n",
    "    y_train = y_train[r]\n",
    "\n",
    "    r = np.where(x_test.sum(axis=1) > 0.)[0]\n",
    "    x_test = x_test[r, :]\n",
    "    y_test = y_test[r]\n",
    "\n",
    "    return (x_train, y_train),(x_test, y_test), vocab_train\n",
    "\n",
    "\n",
    "def _download_cifar10(dataset):\n",
    "    \"\"\"\n",
    "    Download the Cifar10 dataset if it is not present.\n",
    "    \"\"\"\n",
    "    origin = (\n",
    "        'http://www.cs.toronto.edu/~kriz/cifar-10-python.tar.gz'\n",
    "    )\n",
    "    print 'Downloading data from %s' % origin\n",
    "    urllib.urlretrieve(origin, dataset)\n",
    "\n",
    "\n",
    "def load_cifar10(\n",
    "        dataset=_get_datafolder_path()+'/cifar10/cifar-10-python.tar.gz',\n",
    "        normalize=True,\n",
    "        dequantify=True):\n",
    "    '''\n",
    "    Loads the cifar10 dataset\n",
    "    :param dataset: path to dataset file\n",
    "    :param normalize: normalize the x data to the range [0,1]\n",
    "    :param dequantify: Add uniform noise to dequantify the data following\n",
    "        Uria et. al 2013\n",
    "        \"RNADE: The real-valued neural autoregressive density-estimator\"\n",
    "    :return: train and test data\n",
    "    '''\n",
    "    datasetfolder = os.path.dirname(dataset)\n",
    "    batch_folder = datasetfolder+ '/cifar-10-batches-py/'\n",
    "    if not os.path.isfile(dataset):\n",
    "        if not os.path.exists(datasetfolder):\n",
    "            os.makedirs(datasetfolder)\n",
    "        _download_cifar10(dataset)\n",
    "\n",
    "    if not os.path.isfile(batch_folder + 'data_batch_5'):\n",
    "        with tarfile.open(dataset) as tar:\n",
    "            tar.extractall(os.path.dirname(dataset))\n",
    "\n",
    "    train_x, train_y = [],[]\n",
    "    for i in ['1','2','3','4','5']:\n",
    "        with open(batch_folder + 'data_batch_'+ i,'r') as f:\n",
    "            data = cPkl.load(f)\n",
    "            train_x += [data['data']]\n",
    "            train_y += [data['labels']]\n",
    "    train_x = np.concatenate(train_x)\n",
    "    train_y = np.concatenate(train_y)\n",
    "\n",
    "\n",
    "    with open(batch_folder + 'test_batch','r') as f:\n",
    "        data = cPkl.load(f)\n",
    "        test_x = data['data']\n",
    "        test_y = np.asarray(data['labels'])\n",
    "\n",
    "    train_x = train_x.astype('float32')\n",
    "    test_x = test_x.astype('float32')\n",
    "    if dequantify:\n",
    "        train_x += np.random.uniform(0,1,size=train_x.shape).astype('float32')\n",
    "        test_x += np.random.uniform(0,1,size=test_x.shape).astype('float32')\n",
    "    if normalize:\n",
    "        normalizer = train_x.max().astype('float32')\n",
    "        train_x = train_x / normalizer\n",
    "        test_x = test_x / normalizer\n",
    "\n",
    "    train_x = train_x.reshape((50000, 3, 32, 32)).transpose(0, 2, 3, 1)\n",
    "    test_x = test_x.reshape((10000, 3, 32, 32)).transpose(0, 2, 3, 1)\n",
    "\n",
    "    return train_x.astype('float32'), train_y, test_x.astype('float32'), test_y\n",
    "\n",
    "\n",
    "def load_frey_faces(\n",
    "        dataset=_get_datafolder_path()+'/frey_faces/frey_faces',\n",
    "        normalize=True,\n",
    "        dequantify=True):\n",
    "    '''\n",
    "    :param dataset:\n",
    "    :param normalize:\n",
    "    :param dequantify: Add uniform noise to dequantify the data following\n",
    "        Uria et. al 2013\n",
    "        \"RNADE: The real-valued neural autoregressive density-estimator\"\n",
    "    :return:\n",
    "    '''\n",
    "    datasetfolder = os.path.dirname(dataset+'.pkl.gz')\n",
    "    if not os.path.isfile(dataset + '.pkl.gz'):\n",
    "        if not os.path.exists(datasetfolder):\n",
    "            os.makedirs(datasetfolder)\n",
    "        _download_frey_faces(dataset)\n",
    "\n",
    "    if not os.path.isfile(datasetfolder + '/fixed_split.pkl'):\n",
    "        urllib.urlretrieve('https://raw.githubusercontent.com/casperkaae/'\n",
    "                           'extra_parmesan/master/data_splits/'\n",
    "                           'frey_faces_fixed_split.pkl',\n",
    "                           datasetfolder + '/fixed_split.pkl')\n",
    "\n",
    "    f = gzip.open(dataset+'.pkl.gz', 'rb')\n",
    "    data = pkl.load(f)[0].reshape(-1,28,20).astype('float32')\n",
    "    f.close()\n",
    "    if dequantify:\n",
    "        data = data + np.random.uniform(0,1,size=data.shape).astype('float32')\n",
    "    if normalize:\n",
    "        normalizer = data.max().astype('float32')\n",
    "        data = data / normalizer\n",
    "    return data\n",
    "\n",
    "def load_lfw(\n",
    "        dataset=_get_datafolder_path()+'/lfw/lfw',\n",
    "        normalize=True,\n",
    "        dequantify=True,\n",
    "        size=0.25):\n",
    "    '''\n",
    "    :param dataset:\n",
    "    :param normalize:\n",
    "    :param dequantify: Add uniform noise to dequantify the data following\n",
    "        Uria et. al 2013\n",
    "        \"RNADE: The real-valued neural autoregressive density-estimator\"\n",
    "    :param size: rescaling factor\n",
    "    :return:\n",
    "    '''\n",
    "\n",
    "    dataset=\"%s_%0.2f.cpkl\"%(dataset,size)\n",
    "    datasetfolder = os.path.dirname(dataset)\n",
    "    if not os.path.isfile(dataset):\n",
    "        if not os.path.exists(datasetfolder):\n",
    "            os.makedirs(datasetfolder)\n",
    "        _download_lwf(dataset,size)\n",
    "\n",
    "    if not os.path.isfile(datasetfolder + '/fixed_split.pkl'):\n",
    "        urllib.urlretrieve('https://raw.githubusercontent.com/casperkaae/'\n",
    "                           'extra_parmesan/master/data_splits/'\n",
    "                           'lfw_fixed_split.pkl',\n",
    "                           datasetfolder + '/fixed_split.pkl')\n",
    "\n",
    "\n",
    "    f = gzip.open(dataset, 'rb')\n",
    "    data = cPkl.load(f)[0].astype('float32')\n",
    "    f.close()\n",
    "    if dequantify:\n",
    "        data = data + np.random.uniform(0,1,size=data.shape).astype('float32')\n",
    "    if normalize:\n",
    "        normalizer = data.max().astype('float32')\n",
    "        data = data / normalizer\n",
    "    return data\n",
    "\n",
    "\n",
    "def load_svhn(\n",
    "        dataset=_get_datafolder_path()+'/svhn/',\n",
    "        normalize=True,\n",
    "        dequantify=True,\n",
    "        extra=False):\n",
    "    '''\n",
    "    :param dataset:\n",
    "    :param normalize:\n",
    "    :param dequantify: Add uniform noise to dequantify the data following\n",
    "        Uria et. al 2013\n",
    "        \"RNADE: The real-valued neural autoregressive density-estimator\"\n",
    "    :param extra: include extra svhn samples\n",
    "    :return:\n",
    "    '''\n",
    "\n",
    "    if not os.path.isfile(dataset +'svhn_train.cpkl'):\n",
    "        datasetfolder = os.path.dirname(dataset +'svhn_train.cpkl')\n",
    "        if not os.path.exists(datasetfolder):\n",
    "            os.makedirs(datasetfolder)\n",
    "        _download_svhn(dataset, extra=False)\n",
    "\n",
    "    with open(dataset +'svhn_train.cpkl', 'rb') as f:\n",
    "        train_x,train_y = cPkl.load(f)\n",
    "    with open(dataset +'svhn_test.cpkl', 'rb') as f:\n",
    "        test_x,test_y = cPkl.load(f)\n",
    "\n",
    "    if extra:\n",
    "        if not os.path.isfile(dataset +'svhn_extra.cpkl'):\n",
    "            datasetfolder = os.path.dirname(dataset +'svhn_train.cpkl')\n",
    "            if not os.path.exists(datasetfolder):\n",
    "                os.makedirs(datasetfolder)\n",
    "            _download_svhn(dataset, extra=True)\n",
    "\n",
    "        with open(dataset +'svhn_extra.cpkl', 'rb') as f:\n",
    "            extra_x,extra_y = cPkl.load(f)\n",
    "        train_x = np.concatenate([train_x,extra_x])\n",
    "        train_y = np.concatenate([train_y,extra_y])\n",
    "\n",
    "    train_x = train_x.astype('float32')\n",
    "    test_x = test_x.astype('float32')\n",
    "    train_y = train_y.astype('int32')\n",
    "    test_y = test_y.astype('int32')\n",
    "\n",
    "    if dequantify:\n",
    "        train_x += np.random.uniform(0,1,size=train_x.shape).astype('float32')\n",
    "        test_x += np.random.uniform(0,1,size=test_x.shape).astype('float32')\n",
    "\n",
    "    if normalize:\n",
    "        normalizer = train_x.max().astype('float32')\n",
    "        train_x = train_x / normalizer\n",
    "        test_x = test_x / normalizer\n",
    "\n",
    "    return train_x, train_y, test_x, test_y\n",
    "\n",
    "\n",
    "\n",
    "def _download_svhn(dataset, extra):\n",
    "    \"\"\"\n",
    "    Download the SVHN dataset\n",
    "    \"\"\"\n",
    "    print 'Downloading data from http://ufldl.stanford.edu/housenumbers/, ' \\\n",
    "          'this may take a while...'\n",
    "    if extra:\n",
    "        print \"Downloading extra data...\"\n",
    "        urllib.urlretrieve('http://ufldl.stanford.edu/housenumbers/extra_32x32.mat',\n",
    "                           dataset+'extra_32x32.mat')\n",
    "        extra = loadmat(dataset+'extra_32x32.mat')\n",
    "        extra_x = extra['X'].swapaxes(2,3).swapaxes(1,2).swapaxes(0,1)\n",
    "        extra_y = extra['y'].reshape((-1)) - 1\n",
    "\n",
    "        print \"Saving extra data\"\n",
    "        with open(dataset +'svhn_extra.cpkl', 'w') as f:\n",
    "            pkl.dump([extra_x,extra_y],f,protocol=cPkl.HIGHEST_PROTOCOL)\n",
    "        os.remove(dataset+'extra_32x32.mat')\n",
    "\n",
    "    else:\n",
    "        print \"Downloading train data...\"\n",
    "        urllib.urlretrieve('http://ufldl.stanford.edu/housenumbers/train_32x32.mat',\n",
    "                           dataset+'train_32x32.mat')\n",
    "        print \"Downloading test data...\"\n",
    "        urllib.urlretrieve('http://ufldl.stanford.edu/housenumbers/test_32x32.mat',\n",
    "                           dataset+'test_32x32.mat')\n",
    "\n",
    "        train = loadmat(dataset+'train_32x32.mat')\n",
    "        train_x = train['X'].swapaxes(2,3).swapaxes(1,2).swapaxes(0,1)\n",
    "        train_y = train['y'].reshape((-1)) - 1\n",
    "        test = loadmat(dataset+'test_32x32.mat')\n",
    "        test_x = test['X'].swapaxes(2,3).swapaxes(1,2).swapaxes(0,1)\n",
    "        test_y = test['y'].reshape((-1)) - 1\n",
    "\n",
    "        print \"Saving train data\"\n",
    "        with open(dataset +'svhn_train.cpkl', 'w') as f:\n",
    "            cPkl.dump([train_x,train_y],f,protocol=cPkl.HIGHEST_PROTOCOL)\n",
    "        print \"Saving test data\"\n",
    "        with open(dataset +'svhn_test.cpkl', 'w') as f:\n",
    "            pkl.dump([test_x,test_y],f,protocol=cPkl.HIGHEST_PROTOCOL)\n",
    "        os.remove(dataset+'train_32x32.mat')\n",
    "        os.remove(dataset+'test_32x32.mat')\n",
    "\n",
    "\n",
    "\n",
    "\n",
    "\n",
    "\n",
    "\n",
    "    # helper function for converting chars to matrix format\n",
    "    def create_matrix(reviews, y_cls):\n",
    "        num_seqs = len(reviews)\n",
    "        X = np.zeros((num_seqs, max_len), dtype='int32') -1  # set all to -1\n",
    "        for row in range(num_seqs):\n",
    "            review = reviews[row]\n",
    "            for col in range(len(review)):\n",
    "                # try to look up key otherwise use unk_idx\n",
    "                if review[col] in char2idx:\n",
    "                    char_idx = char2idx[review[col]]\n",
    "                else:\n",
    "                    char_idx = unk_idx\n",
    "                X[row, col] = char_idx\n",
    "\n",
    "        mask = (X != -1).astype('float32')\n",
    "        X[X==-1] = 0\n",
    "        y = np.ones(num_seqs, dtype='int32')*y_cls\n",
    "        return X, y, mask\n",
    "\n",
    "    X_pos, y_pos, mask_pos = create_matrix(pos_lst, 1)\n",
    "    X_neg, y_neg, mask_neg = create_matrix(neg_lst, 0)\n",
    "    X = np.concatenate([X_pos, X_neg], axis=0)\n",
    "    y = np.concatenate([y_pos, y_neg], axis=0)\n",
    "    mask = np.concatenate([mask_pos, mask_neg])\n",
    "\n",
    "    print \"-\"*40\n",
    "    print \"Minium length filter :\", minimum_len\n",
    "    print \"Maximum length filter:\", maximum_len\n",
    "    if minimum_len is not None:\n",
    "        seq_lens = mask.sum(axis=1)\n",
    "        keep = seq_lens >= minimum_len\n",
    "        print \"Seqs below minimum   : %i\" % np.invert(keep).sum()\n",
    "        X = X[keep, :]\n",
    "        y = y[keep]\n",
    "        mask = mask[keep, :]\n",
    "\n",
    "    if maximum_len is not None:\n",
    "        seq_lens = mask.sum(axis=1)\n",
    "        keep = seq_lens <= maximum_len\n",
    "        print \"Seqs above maximum   : %i\" % np.invert(keep).sum()\n",
    "        X = X[keep, :]\n",
    "        y = y[keep]\n",
    "        mask = mask[keep, :]\n",
    "\n",
    "    np.random.seed(seed)\n",
    "    p = np.random.permutation(X.shape[0])\n",
    "    X = X[p]\n",
    "    y = y[p]\n",
    "    mask = mask[p]\n",
    "\n",
    "    seq_lens = mask.sum(axis=1).astype('int32')\n",
    "    print \"X                    :\", X.shape, X.dtype\n",
    "    print \"y                    :\", y.shape, y.dtype\n",
    "    print \"mask                 :\", mask.shape, mask.dtype\n",
    "    print \"MIN length           : \", seq_lens.min()\n",
    "    print \"MAX length           : \", seq_lens.max()\n",
    "    print \"MEAN length          : \", seq_lens.mean()\n",
    "    print \"UNKOWN chars         : \", np.sum(X==unk_idx)\n",
    "    print \"-\"*40\n",
    "\n",
    "    # check that idx's in X is the number of vocab_size + unk_idx\n",
    "    n = vocab_size if isinstance(vocab_size, int) else len(vocab_size)\n",
    "    assert len(np.unique(X)) == n  + 1\n",
    "    assert sum(np.unique(y)) == 1 # check that y is 0,1\n",
    "    return X, y, mask, vocab\n",
    "\n",
    "\n",
    "def _one_hot(x,n_labels=None):\n",
    "    if n_labels is None:\n",
    "        n_labels = np.max(x)\n",
    "    return np.eye(n_labels)[x]\n",
    "\n",
    "def _download_and_extract_stl10(dest_directory):\n",
    "    \"\"\"\n",
    "    SOURCE: https://github.com/mttk/STL10\n",
    "    Download and extract the STL-10 dataset\n",
    "    :return: None\n",
    "    \"\"\"\n",
    "    import sys\n",
    "    origin = 'http://ai.stanford.edu/~acoates/stl10/stl10_binary.tar.gz'\n",
    "    if not os.path.exists(dest_directory):\n",
    "        os.makedirs(dest_directory)\n",
    "    filename = origin.split('/')[-1]\n",
    "    filepath = os.path.join(dest_directory, filename)\n",
    "    if not os.path.exists(filepath):\n",
    "        def _progress(count, block_size, total_size):\n",
    "            sys.stdout.write('\\rDownloading %s %.2f%%' % (filename,\n",
    "                float(count * block_size) / float(total_size) * 100.0))\n",
    "            sys.stdout.flush()\n",
    "        filepath, _ = urllib.urlretrieve(origin, filepath, reporthook=_progress)\n",
    "        print('Downloaded', filename)\n",
    "\n",
    "    binary_directory = os.path.join(dest_directory, 'stl10_binary')\n",
    "    if not os.path.exists(binary_directory):\n",
    "        tarfile.open(filepath, 'r:gz').extractall(dest_directory)\n",
    "    return binary_directory\n",
    "\n",
    "\n",
    "def load_stl10(\n",
    "        dataset=_get_datafolder_path()+'/stl10/stl10_binary.tar.gz',\n",
    "        normalize=False,\n",
    "        dequantify=False):\n",
    "    '''\n",
    "    Loads the stl10 dataset\n",
    "    :param dataset: path to dataset file\n",
    "    :param normalize: Not supported. For normalization we would need to\n",
    "                      convert the dataset to float32 which would increase\n",
    "                      the dataset size further\n",
    "    :param dequantify: not supported\n",
    "    :return: data. Note that the data will be returned as uint8 to save memory.\n",
    "            You'll need to convert it to float32.\n",
    "\n",
    "\n",
    "\n",
    "    '''\n",
    "    if normalize is True:\n",
    "        raise ValueError('Normalization with STL10 loader is not supported. '\n",
    "                         'Create an iterator that normalizes on the fly')\n",
    "    if dequantify is True:\n",
    "        raise ValueError('Dequantify is not supported with STL10 loader. '\n",
    "                         'Create an iterator that dequantifies on the fly')\n",
    "\n",
    "    def read_all_images(path_to_data):\n",
    "        print \"Loading %s\" % path_to_data,\n",
    "        with open(path_to_data, 'rb') as f:\n",
    "            # read whole file in uint8 chunks\n",
    "            everything = np.fromfile(f, dtype=np.uint8)\n",
    "            images = np.reshape(everything, (-1, 3, 96, 96))\n",
    "            images = np.transpose(images, (0, 1, 3, 2))\n",
    "            print \"shp\", images.shape, \"dtype\", images.dtype\n",
    "            return images\n",
    "\n",
    "    def read_labels(path_to_labels):\n",
    "        print \"Loading %s\" % path_to_labels,\n",
    "        with open(path_to_labels, 'rb') as f:\n",
    "            labels = np.fromfile(f, dtype=np.uint8)\n",
    "            labels -= 1 # from 1...10 to 0...9\n",
    "            print \"shp\", labels.shape, \"dtype\", labels.dtype\n",
    "        return labels\n",
    "\n",
    "    datasetfolder = os.path.dirname(dataset)\n",
    "    # download and extract if nessesary\n",
    "    binary_directory = _download_and_extract_stl10(datasetfolder)\n",
    "\n",
    "    data_path_train = os.path.join(binary_directory, 'train_X.bin')\n",
    "    data_path_test = os.path.join(binary_directory, 'test_X.bin')\n",
    "    data_path_unlab = os.path.join(binary_directory, 'unlabeled_X.bin')\n",
    "    label_path_train = os.path.join(binary_directory, 'train_y.bin')\n",
    "    label_path_test = os.path.join(binary_directory, 'test_y.bin')\n",
    "\n",
    "    x_train = read_all_images(data_path_train)\n",
    "    x_test = read_all_images(data_path_test)\n",
    "    x_unlab = read_all_images(data_path_unlab)\n",
    "    y_train = read_labels(label_path_train)\n",
    "    y_test = read_labels(label_path_test)\n",
    "    return x_train, y_train, x_test, y_test, x_unlab\n"
   ]
  },
  {
   "cell_type": "markdown",
   "metadata": {},
   "source": [
    "## RBM"
   ]
  },
  {
   "cell_type": "code",
   "execution_count": 2,
   "metadata": {
    "ExecuteTime": {
     "end_time": "2016-10-18T21:14:15.147490",
     "start_time": "2016-10-18T21:14:14.682465"
    },
    "collapsed": false
   },
   "outputs": [],
   "source": [
    "import sklearn\n",
    "from sklearn.neural_network import BernoulliRBM\n",
    "from sklearn import linear_model, datasets, metrics\n",
    "from sklearn.pipeline import Pipeline"
   ]
  },
  {
   "cell_type": "code",
   "execution_count": 3,
   "metadata": {
    "ExecuteTime": {
     "end_time": "2016-10-18T21:14:15.156964",
     "start_time": "2016-10-18T21:14:15.149628"
    },
    "collapsed": true
   },
   "outputs": [],
   "source": [
    "def train_rbm(train_x, train_y, test_x, test_y):\n",
    "    lr = linear_model.LogisticRegression()\n",
    "    rbm = BernoulliRBM(random_state=0,n_iter=20, verbose=True)\n",
    "    clf = Pipeline(steps=[('rbm', rbm), ('lr', lr)])\n",
    "\n",
    "    clf.fit(train_x, train_y)\n",
    "\n",
    "    print(\"Logistic regression using RBM features:\\n%s\\n\" % (\n",
    "        metrics.classification_report(\n",
    "            test_y,\n",
    "            clf.predict(test_x))))"
   ]
  },
  {
   "cell_type": "markdown",
   "metadata": {
    "ExecuteTime": {
     "end_time": "2016-09-27T21:41:35.845434",
     "start_time": "2016-09-27T21:41:35.841724"
    }
   },
   "source": [
    "## CalTech101 Silhouettes\n",
    "\n",
    "https://people.cs.umass.edu/~marlin/data.shtml\n",
    "\n",
    "Train/Validation/Test split for 28x28 Silhouettes:  \n",
    "https://people.cs.umass.edu/~marlin/data/caltech101_silhouettes_28_split1.mat  \n",
    "  \n",
    "  -\n",
    "  \n",
    "<font color='red'>TODO: reshape labels and check</font>"
   ]
  },
  {
   "cell_type": "code",
   "execution_count": 4,
   "metadata": {
    "ExecuteTime": {
     "end_time": "2016-10-18T21:14:15.190306",
     "start_time": "2016-10-18T21:14:15.159166"
    },
    "collapsed": false,
    "scrolled": false
   },
   "outputs": [
    {
     "name": "stdout",
     "output_type": "stream",
     "text": [
      "(4100, 784) (4100, 1)\n"
     ]
    }
   ],
   "source": [
    "train_x, train_y, valid_x, valid_y, test_x, test_y  = load_caltech_silhouettes()\n",
    "print train_x.shape, train_y.shape"
   ]
  },
  {
   "cell_type": "code",
   "execution_count": 6,
   "metadata": {
    "ExecuteTime": {
     "end_time": "2016-10-18T21:18:58.916913",
     "start_time": "2016-10-18T21:18:58.750505"
    },
    "collapsed": false,
    "scrolled": true
   },
   "outputs": [
    {
     "data": {
      "image/png": "[encoded data removed]",
      "text/plain": [
       "<matplotlib.figure.Figure at 0x111e90a50>"
      ]
     },
     "metadata": {},
     "output_type": "display_data"
    }
   ],
   "source": [
    "image = train_x[0,:]\n",
    "image = np.reshape(image,[28,28])\n",
    "show_image(image)"
   ]
  },
  {
   "cell_type": "code",
   "execution_count": 7,
   "metadata": {
    "ExecuteTime": {
     "end_time": "2016-10-18T21:19:00.746297",
     "start_time": "2016-10-18T21:19:00.741762"
    },
    "collapsed": false,
    "scrolled": true
   },
   "outputs": [
    {
     "name": "stdout",
     "output_type": "stream",
     "text": [
      "(4100, 1)\n",
      "(101,)\n"
     ]
    }
   ],
   "source": [
    "print train_y.shape\n",
    "print np.unique(train_y).shape"
   ]
  },
  {
   "cell_type": "code",
   "execution_count": 8,
   "metadata": {
    "ExecuteTime": {
     "end_time": "2016-10-18T21:19:49.994127",
     "start_time": "2016-10-18T21:19:00.957411"
    },
    "collapsed": false,
    "scrolled": true
   },
   "outputs": [
    {
     "name": "stdout",
     "output_type": "stream",
     "text": [
      "[BernoulliRBM] Iteration 1, pseudo-likelihood = -635.82, time = 1.43s\n",
      "[BernoulliRBM] Iteration 2, pseudo-likelihood = -311.88, time = 1.64s\n",
      "[BernoulliRBM] Iteration 3, pseudo-likelihood = -318.13, time = 1.67s\n",
      "[BernoulliRBM] Iteration 4, pseudo-likelihood = -284.22, time = 1.62s\n",
      "[BernoulliRBM] Iteration 5, pseudo-likelihood = -246.01, time = 1.59s\n",
      "[BernoulliRBM] Iteration 6, pseudo-likelihood = -261.73, time = 1.59s\n",
      "[BernoulliRBM] Iteration 7, pseudo-likelihood = -234.61, time = 1.63s\n",
      "[BernoulliRBM] Iteration 8, pseudo-likelihood = -254.76, time = 1.61s\n",
      "[BernoulliRBM] Iteration 9, pseudo-likelihood = -245.49, time = 1.62s\n",
      "[BernoulliRBM] Iteration 10, pseudo-likelihood = -227.89, time = 1.63s\n",
      "[BernoulliRBM] Iteration 11, pseudo-likelihood = -247.63, time = 1.59s\n",
      "[BernoulliRBM] Iteration 12, pseudo-likelihood = -231.57, time = 1.63s\n",
      "[BernoulliRBM] Iteration 13, pseudo-likelihood = -230.18, time = 1.63s\n",
      "[BernoulliRBM] Iteration 14, pseudo-likelihood = -226.12, time = 1.60s\n",
      "[BernoulliRBM] Iteration 15, pseudo-likelihood = -237.41, time = 1.59s\n",
      "[BernoulliRBM] Iteration 16, pseudo-likelihood = -227.04, time = 1.62s\n",
      "[BernoulliRBM] Iteration 17, pseudo-likelihood = -275.11, time = 1.62s\n",
      "[BernoulliRBM] Iteration 18, pseudo-likelihood = -225.84, time = 1.58s\n",
      "[BernoulliRBM] Iteration 19, pseudo-likelihood = -239.31, time = 1.60s\n",
      "[BernoulliRBM] Iteration 20, pseudo-likelihood = -230.39, time = 1.61s\n"
     ]
    },
    {
     "name": "stderr",
     "output_type": "stream",
     "text": [
      "/Users/charlesmartin14/anaconda/lib/python2.7/site-packages/sklearn/utils/validation.py:515: DataConversionWarning: A column-vector y was passed when a 1d array was expected. Please change the shape of y to (n_samples, ), for example using ravel().\n",
      "  y = column_or_1d(y, warn=True)\n"
     ]
    },
    {
     "name": "stdout",
     "output_type": "stream",
     "text": [
      "Logistic regression using RBM features:\n",
      "             precision    recall  f1-score   support\n",
      "\n",
      "          1       0.91      0.84      0.87       349\n",
      "          2       0.47      0.19      0.27       168\n",
      "          3       0.50      0.82      0.62       168\n",
      "          4       0.24      0.16      0.19        50\n",
      "          5       0.99      0.95      0.97       349\n",
      "          6       0.09      0.09      0.09        11\n",
      "          7       0.60      0.75      0.67         8\n",
      "          8       0.33      0.12      0.18         8\n",
      "          9       0.25      0.44      0.32         9\n",
      "         10       1.00      0.09      0.17        11\n",
      "         11       0.00      0.00      0.00         9\n",
      "         12       0.20      0.14      0.17         7\n",
      "         13       0.26      0.19      0.22        26\n",
      "         14       0.28      0.70      0.40        20\n",
      "         15       0.00      0.00      0.00         9\n",
      "         16       0.70      0.82      0.76        17\n",
      "         17       0.19      0.33      0.24        18\n",
      "         18       0.38      0.30      0.33        10\n",
      "         19       0.00      0.00      0.00         9\n",
      "         20       0.71      0.96      0.81        25\n",
      "         21       0.00      0.00      0.00         9\n",
      "         22       0.29      0.75      0.42        12\n",
      "         23       0.25      0.25      0.25        12\n",
      "         24       0.17      0.38      0.24        21\n",
      "         25       0.00      0.00      0.00         9\n",
      "         26       0.36      0.71      0.48        14\n",
      "         27       0.50      0.13      0.21        15\n",
      "         28       0.00      0.00      0.00        14\n",
      "         29       0.00      0.00      0.00        10\n",
      "         30       0.50      0.40      0.44        10\n",
      "         31       0.39      0.64      0.48        11\n",
      "         32       0.29      0.15      0.20        13\n",
      "         33       0.69      0.90      0.78        10\n",
      "         34       0.60      0.23      0.33        13\n",
      "         35       0.47      0.57      0.52        14\n",
      "         36       0.64      0.93      0.76        15\n",
      "         37       0.31      0.38      0.34        13\n",
      "         38       0.14      0.09      0.11        11\n",
      "         39       0.82      0.69      0.75        13\n",
      "         40       0.23      0.18      0.20        17\n",
      "         41       0.17      0.15      0.16        13\n",
      "         42       0.00      0.00      0.00        13\n",
      "         43       0.00      0.00      0.00         9\n",
      "         44       0.00      0.00      0.00         7\n",
      "         45       0.00      0.00      0.00         7\n",
      "         46       0.19      0.30      0.23        10\n",
      "         47       0.36      0.50      0.42        20\n",
      "         48       0.13      0.20      0.16        20\n",
      "         49       0.50      0.38      0.43         8\n",
      "         50       0.33      0.18      0.24        11\n",
      "         51       0.33      0.39      0.36        18\n",
      "         52       0.36      0.75      0.49        16\n",
      "         53       0.00      0.00      0.00         6\n",
      "         54       0.14      0.08      0.10        13\n",
      "         55       0.08      0.06      0.07        17\n",
      "         56       0.32      0.52      0.39        23\n",
      "         57       0.29      0.33      0.31        12\n",
      "         58       0.52      0.75      0.62        16\n",
      "         59       0.36      0.56      0.44        16\n",
      "         60       0.00      0.00      0.00         8\n",
      "         61       0.14      0.15      0.15        13\n",
      "         62       0.32      0.78      0.45         9\n",
      "         63       0.00      0.00      0.00         8\n",
      "         64       0.44      0.41      0.42        17\n",
      "         65       1.00      0.33      0.50         6\n",
      "         66       0.47      0.93      0.62        15\n",
      "         67       0.25      0.09      0.13        11\n",
      "         68       0.00      0.00      0.00         7\n",
      "         69       0.57      0.50      0.53         8\n",
      "         70       0.40      0.22      0.29         9\n",
      "         71       0.20      0.14      0.17         7\n",
      "         72       0.20      0.22      0.21         9\n",
      "         73       0.00      0.00      0.00        11\n",
      "         74       0.25      0.14      0.18         7\n",
      "         75       0.18      0.18      0.18        11\n",
      "         76       0.59      0.62      0.61        16\n",
      "         77       0.50      0.50      0.50        12\n",
      "         78       0.53      0.80      0.64        10\n",
      "         79       0.62      0.62      0.62         8\n",
      "         80       0.00      0.00      0.00        13\n",
      "         81       0.50      0.25      0.33         8\n",
      "         82       0.08      0.06      0.07        17\n",
      "         83       0.30      0.27      0.29        11\n",
      "         84       0.33      0.14      0.20         7\n",
      "         85       0.56      0.77      0.65        13\n",
      "         86       0.25      0.11      0.15         9\n",
      "         87       0.18      0.29      0.22        17\n",
      "         88       0.20      0.17      0.18        12\n",
      "         89       0.58      0.54      0.56        13\n",
      "         90       0.33      0.14      0.20         7\n",
      "         91       0.29      0.47      0.36        17\n",
      "         92       0.50      0.30      0.37        10\n",
      "         93       0.53      0.47      0.50        17\n",
      "         94       0.33      0.73      0.46        15\n",
      "         95       0.72      0.73      0.72        70\n",
      "         96       0.00      0.00      0.00         7\n",
      "         97       0.40      0.50      0.44        12\n",
      "         98       0.00      0.00      0.00         7\n",
      "         99       0.50      0.55      0.52        11\n",
      "        100       0.23      0.38      0.29         8\n",
      "        101       0.33      0.17      0.22        12\n",
      "\n",
      "avg / total       0.54      0.55      0.53      2307\n",
      "\n",
      "\n"
     ]
    },
    {
     "name": "stderr",
     "output_type": "stream",
     "text": [
      "/Users/charlesmartin14/anaconda/lib/python2.7/site-packages/sklearn/metrics/classification.py:1074: UndefinedMetricWarning: Precision and F-score are ill-defined and being set to 0.0 in labels with no predicted samples.\n",
      "  'precision', 'predicted', average, warn_for)\n"
     ]
    }
   ],
   "source": [
    "train_rbm(train_x, train_y, test_x, test_y)"
   ]
  },
  {
   "cell_type": "markdown",
   "metadata": {},
   "source": [
    "### How can we quantify the RBM / VAE results ?\n",
    " \n",
    "- NLL \n",
    "\n",
    "- AIS\n",
    "\n"
   ]
  },
  {
   "cell_type": "code",
   "execution_count": null,
   "metadata": {
    "collapsed": true
   },
   "outputs": [],
   "source": []
  },
  {
   "cell_type": "code",
   "execution_count": null,
   "metadata": {
    "collapsed": true
   },
   "outputs": [],
   "source": []
  },
  {
   "cell_type": "markdown",
   "metadata": {},
   "source": [
    "## MNIST\n",
    "\n",
    "10 classes of digits,  784 (28 × 28 images), real valued in [0, 1] <br>\n",
    "60,000 training and 10,000 test images \n",
    "\n",
    "Y. LeCun, L. Bottou, Y. Bengio, and P. Haffner, “Gradient-based learning applied to document\n",
    "recognition,” Proceedings of the IEEE, vol. 86, no. 11, pp. 2278–2324, 1998.\n"
   ]
  },
  {
   "cell_type": "code",
   "execution_count": null,
   "metadata": {
    "collapsed": true
   },
   "outputs": [],
   "source": []
  },
  {
   "cell_type": "code",
   "execution_count": null,
   "metadata": {
    "collapsed": true
   },
   "outputs": [],
   "source": []
  },
  {
   "cell_type": "markdown",
   "metadata": {},
   "source": [
    "## Omniglot  28x28\n",
    "\n",
    "https://github.com/brendenlake/omniglot\n",
    "\n",
    "1623 different handwritten characters from 50 different alphabets. <br>\n",
    "Each of the 1623 characters was drawn online via Amazon's Mechanical Turk by 20 different people."
   ]
  },
  {
   "cell_type": "code",
   "execution_count": 9,
   "metadata": {
    "ExecuteTime": {
     "end_time": "2016-10-18T21:20:18.232900",
     "start_time": "2016-10-18T21:20:15.852072"
    },
    "collapsed": false
   },
   "outputs": [
    {
     "name": "stdout",
     "output_type": "stream",
     "text": [
      "(24345, 784) (24345,)\n",
      "there are  (55,)  classes\n"
     ]
    }
   ],
   "source": [
    "train_x, train_t, train_char, test_x, test_t, test_char = load_omniglot_iwae()\n",
    "print train_x.shape, train_t.shape\n",
    "print \"there are \",np.unique(train_char).shape, \" classes\""
   ]
  },
  {
   "cell_type": "code",
   "execution_count": 10,
   "metadata": {
    "ExecuteTime": {
     "end_time": "2016-10-18T21:20:19.213860",
     "start_time": "2016-10-18T21:20:19.052953"
    },
    "collapsed": false,
    "scrolled": false
   },
   "outputs": [
    {
     "data": {
      "image/png": "[encoded data removed]",
      "text/plain": [
       "<matplotlib.figure.Figure at 0x11640de90>"
      ]
     },
     "metadata": {},
     "output_type": "display_data"
    }
   ],
   "source": [
    "image = train_x[0,:]\n",
    "image = np.reshape(image,[28,28])\n",
    "show_image(image)"
   ]
  },
  {
   "cell_type": "markdown",
   "metadata": {},
   "source": [
    "Output for julia code"
   ]
  },
  {
   "cell_type": "code",
   "execution_count": 26,
   "metadata": {
    "ExecuteTime": {
     "end_time": "2016-10-18T21:33:48.890237",
     "start_time": "2016-10-18T21:33:48.886671"
    },
    "collapsed": true
   },
   "outputs": [],
   "source": [
    "import h5py"
   ]
  },
  {
   "cell_type": "code",
   "execution_count": 27,
   "metadata": {
    "ExecuteTime": {
     "end_time": "2016-10-18T21:33:49.193338",
     "start_time": "2016-10-18T21:33:49.070983"
    },
    "collapsed": true
   },
   "outputs": [],
   "source": [
    "!rm omniglot.hdf5"
   ]
  },
  {
   "cell_type": "code",
   "execution_count": 28,
   "metadata": {
    "ExecuteTime": {
     "end_time": "2016-10-18T21:33:49.417430",
     "start_time": "2016-10-18T21:33:49.305231"
    },
    "collapsed": false,
    "scrolled": true
   },
   "outputs": [],
   "source": [
    "with h5py.File(\"omniglot.h5\", 'w') as hf:\n",
    "    hf.create_dataset('train_x', data=train_x)\n",
    "    hf.create_dataset('train_t', data=train_t)\n",
    "    hf.create_dataset('test_x', data=test_x)\n",
    "    hf.create_dataset('test_t', data=test_t)\n",
    "    hf.create_dataset('train_char', data=train_char)\n",
    "    hf.create_dataset('test_char', data=test_char)"
   ]
  },
  {
   "cell_type": "code",
   "execution_count": 29,
   "metadata": {
    "ExecuteTime": {
     "end_time": "2016-10-18T21:38:12.005075",
     "start_time": "2016-10-18T21:38:10.637232"
    },
    "collapsed": false
   },
   "outputs": [
    {
     "data": {
      "text/plain": [
       "573.01581"
      ]
     },
     "execution_count": 29,
     "metadata": {},
     "output_type": "execute_result"
    }
   ],
   "source": [
    "np.linalg.norm(train_x, ord=2)"
   ]
  },
  {
   "cell_type": "markdown",
   "metadata": {
    "ExecuteTime": {
     "end_time": "2016-09-21T14:33:58.943193",
     "start_time": "2016-09-21T14:33:58.937865"
    }
   },
   "source": [
    "## Frey Faces\n",
    "\n",
    "\n",
    "http://www.cs.nyu.edu/~roweis/data.html\n",
    "\n",
    "2000 images of Brendan's face, taken from sequential frames of a small video. Size: 20x28.\n",
    "\n",
    "see also:\n",
    "\n",
    "Denoising criterion for variational autoencoding framework <br>\n",
    "http://arxiv.org/pdf/1511.06406.pdf\n",
    "\n",
    "\n",
    "Stochastic Backpropagation and Approximate Inference in Deep Generative Models<br>\n",
    "http://jmlr.org/proceedings/papers/v32/rezende14.pdf\n",
    "\n",
    "(images are reversed)"
   ]
  },
  {
   "cell_type": "code",
   "execution_count": 72,
   "metadata": {
    "ExecuteTime": {
     "end_time": "2016-09-27T23:57:01.020447",
     "start_time": "2016-09-27T23:57:00.903728"
    },
    "collapsed": false
   },
   "outputs": [],
   "source": [
    "faces = load_frey_faces()"
   ]
  },
  {
   "cell_type": "code",
   "execution_count": 73,
   "metadata": {
    "ExecuteTime": {
     "end_time": "2016-09-27T23:57:01.314507",
     "start_time": "2016-09-27T23:57:01.022048"
    },
    "collapsed": false,
    "scrolled": true
   },
   "outputs": [
    {
     "data": {
      "image/png": "[encoded data removed]",
      "text/plain": [
       "<matplotlib.figure.Figure at 0x111f72210>"
      ]
     },
     "metadata": {},
     "output_type": "display_data"
    },
    {
     "data": {
      "image/png": "[encoded data removed]",
      "text/plain": [
       "<matplotlib.figure.Figure at 0x111c19790>"
      ]
     },
     "metadata": {},
     "output_type": "display_data"
    }
   ],
   "source": [
    "show_image(faces[10,:])\n",
    "show_image(1.0-faces[10,:])"
   ]
  },
  {
   "cell_type": "markdown",
   "metadata": {
    "ExecuteTime": {
     "end_time": "2016-09-21T14:49:46.093698",
     "start_time": "2016-09-21T14:49:46.089353"
    }
   },
   "source": [
    "## Binarized MNIST\n",
    "\n",
    "Binarized by (?), for direct comparison with other papers\n",
    "\n",
    "but it appears there are no labels ?  "
   ]
  },
  {
   "cell_type": "code",
   "execution_count": 74,
   "metadata": {
    "ExecuteTime": {
     "end_time": "2016-09-27T23:57:24.710625",
     "start_time": "2016-09-27T23:57:01.316108"
    },
    "collapsed": false
   },
   "outputs": [
    {
     "data": {
      "text/plain": [
       "((50000, 784), (10000, 784), (10000, 784))"
      ]
     },
     "execution_count": 74,
     "metadata": {},
     "output_type": "execute_result"
    }
   ],
   "source": [
    "x_train, x_valid, x_test = load_mnist_binarized()\n",
    "x_train.shape, x_valid.shape, x_test.shape"
   ]
  },
  {
   "cell_type": "code",
   "execution_count": 75,
   "metadata": {
    "ExecuteTime": {
     "end_time": "2016-09-27T23:57:24.855083",
     "start_time": "2016-09-27T23:57:24.712098"
    },
    "collapsed": false
   },
   "outputs": [
    {
     "data": {
      "image/png": "[encoded data removed]",
      "text/plain": [
       "<matplotlib.figure.Figure at 0x111446b10>"
      ]
     },
     "metadata": {},
     "output_type": "display_data"
    }
   ],
   "source": [
    "image = train_x[0,:]\n",
    "image = np.reshape(image,[28,28])\n",
    "show_image(image)"
   ]
  },
  {
   "cell_type": "markdown",
   "metadata": {},
   "source": [
    "## Norb\n",
    "\n",
    "http://www.cs.nyu.edu/~ylclab/data/norb-v1.0/\n",
    "\n",
    "\n",
    "\"This database is intended for experiments in 3D object reocgnition from shape. It contains images of 50 toys belonging to 5 generic categories: four-legged animals, human figures, airplanes, trucks, and cars. The objects were imaged by two cameras under 6 lighting conditions, 9 elevations (30 to 70 degrees every 5 degrees), and 18 azimuths (0 to 340 every 20 degrees).\"\n",
    "\n",
    "\"The training set is composed of 5 instances of each category (instances 4, 6, 7, 8 and 9), and the test set of the remaining 5 instances (instances 0, 1, 2, 3, and 5).\"\n",
    "\n",
    "Y. LeCun, F.J. Huang, L. Bottou, Learning Methods for Generic Object Recognition with Invariance to Pose and Lighting. CVPR 2004.\n",
    "\n",
    "Learning Methods for Generic Object Recognition with Invariance to Pose and Lighting <br>\n",
    "http://leon.bottou.org/publications/pdf/cvpr-2004.pdf\n",
    "\n",
    "\n",
    "\n",
    "also inverted, not very clear \n",
    "\n",
    "its not clear to me we can reasonably binarize this"
   ]
  },
  {
   "cell_type": "code",
   "execution_count": 76,
   "metadata": {
    "ExecuteTime": {
     "end_time": "2016-09-27T23:57:27.659196",
     "start_time": "2016-09-27T23:57:24.856514"
    },
    "collapsed": false
   },
   "outputs": [],
   "source": [
    "train_x, train_t, test_x, test_t = load_norb_small()"
   ]
  },
  {
   "cell_type": "code",
   "execution_count": 77,
   "metadata": {
    "ExecuteTime": {
     "end_time": "2016-09-27T23:57:27.809382",
     "start_time": "2016-09-27T23:57:27.660789"
    },
    "collapsed": false,
    "scrolled": false
   },
   "outputs": [
    {
     "data": {
      "image/png": "[encoded data removed]",
      "text/plain": [
       "<matplotlib.figure.Figure at 0x11130c2d0>"
      ]
     },
     "metadata": {},
     "output_type": "display_data"
    }
   ],
   "source": [
    "image = train_x[2,:]\n",
    "image = np.reshape(image,[32,32])\n",
    "show_image(1.0-image)"
   ]
  },
  {
   "cell_type": "markdown",
   "metadata": {
    "ExecuteTime": {
     "end_time": "2016-09-21T20:39:28.889059",
     "start_time": "2016-09-21T20:39:28.885603"
    }
   },
   "source": [
    "## Cifar10\n",
    "\n",
    "CIFAR-10: 60,000 32 × 32 colour images, w/ 3072 attributes. 50,000 training and 10,000 test images \n",
    "\n",
    "A. Krizhevsky and G. Hinton, “Learning multiple layers of features from tiny images,” 2009.\n"
   ]
  },
  {
   "cell_type": "code",
   "execution_count": 78,
   "metadata": {
    "ExecuteTime": {
     "end_time": "2016-09-27T23:57:33.225486",
     "start_time": "2016-09-27T23:57:27.811549"
    },
    "collapsed": false
   },
   "outputs": [],
   "source": [
    "train_x, train_y, test_x, test_y = load_cifar10()"
   ]
  },
  {
   "cell_type": "code",
   "execution_count": 79,
   "metadata": {
    "ExecuteTime": {
     "end_time": "2016-09-27T23:57:33.246914",
     "start_time": "2016-09-27T23:57:33.227388"
    },
    "collapsed": false
   },
   "outputs": [
    {
     "name": "stdout",
     "output_type": "stream",
     "text": [
      "(32, 32, 3)\n"
     ]
    }
   ],
   "source": [
    "image=train_x[0]\n",
    "print image.shape"
   ]
  },
  {
   "cell_type": "markdown",
   "metadata": {
    "ExecuteTime": {
     "end_time": "2016-09-21T21:21:20.518818",
     "start_time": "2016-09-21T21:21:20.516331"
    }
   },
   "source": [
    "## LFW Faces in the Wild\n",
    "\n",
    "not used yet"
   ]
  },
  {
   "cell_type": "code",
   "execution_count": 80,
   "metadata": {
    "ExecuteTime": {
     "end_time": "2016-09-27T23:57:33.770086",
     "start_time": "2016-09-27T23:57:33.248325"
    },
    "collapsed": false
   },
   "outputs": [],
   "source": [
    "data = load_lfw()"
   ]
  },
  {
   "cell_type": "code",
   "execution_count": 81,
   "metadata": {
    "ExecuteTime": {
     "end_time": "2016-09-27T23:57:33.774938",
     "start_time": "2016-09-27T23:57:33.771626"
    },
    "collapsed": false
   },
   "outputs": [
    {
     "data": {
      "text/plain": [
       "5212"
      ]
     },
     "execution_count": 81,
     "metadata": {},
     "output_type": "execute_result"
    }
   ],
   "source": [
    "len(data)"
   ]
  },
  {
   "cell_type": "markdown",
   "metadata": {
    "ExecuteTime": {
     "end_time": "2016-09-21T21:50:02.165157",
     "start_time": "2016-09-21T21:50:02.162692"
    }
   },
   "source": [
    "## SVHN Street View House Numbers\n",
    "\n",
    "not sure if we can binarize effectively\n",
    "\n",
    "not used yet"
   ]
  },
  {
   "cell_type": "code",
   "execution_count": 82,
   "metadata": {
    "ExecuteTime": {
     "end_time": "2016-09-27T23:57:44.844093",
     "start_time": "2016-09-27T23:57:33.776318"
    },
    "collapsed": true
   },
   "outputs": [],
   "source": [
    "train_x, train_y, test_x, test_y = load_svhn()"
   ]
  },
  {
   "cell_type": "code",
   "execution_count": 83,
   "metadata": {
    "ExecuteTime": {
     "end_time": "2016-09-27T23:57:44.849037",
     "start_time": "2016-09-27T23:57:44.845789"
    },
    "collapsed": false
   },
   "outputs": [
    {
     "data": {
      "text/plain": [
       "73257"
      ]
     },
     "execution_count": 83,
     "metadata": {},
     "output_type": "execute_result"
    }
   ],
   "source": [
    "len(train_x)"
   ]
  },
  {
   "cell_type": "code",
   "execution_count": null,
   "metadata": {
    "collapsed": true
   },
   "outputs": [],
   "source": []
  },
  {
   "cell_type": "markdown",
   "metadata": {
    "ExecuteTime": {
     "end_time": "2016-09-27T21:01:00.241672",
     "start_time": "2016-09-27T21:01:00.237260"
    }
   },
   "source": [
    "## Yale Face\n",
    "\n",
    "(http://vision.ucsd.edu/content/yale-face-database)\n",
    "\n",
    "Contains 165 gray scale images of 15 individuals. \n",
    "\n",
    "The pre-processed dataset is resized to 32 × 32 (1024 pixels) images.\n",
    "\n",
    "D. Cai, X. He, Y. Hu, J. Han, and T. Huang, “Learning a spatially smooth subspace for face\n",
    "recognition,” in 2007 IEEE Conference on Computer Vision and Pattern Recognition. IEEE,\n",
    "2007, pp. 1–7"
   ]
  },
  {
   "cell_type": "markdown",
   "metadata": {},
   "source": [
    "not implemented yet"
   ]
  },
  {
   "cell_type": "markdown",
   "metadata": {},
   "source": [
    "## ST110 ?\n",
    "\n",
    "not working"
   ]
  },
  {
   "cell_type": "markdown",
   "metadata": {},
   "source": [
    "## AlignMNIST\n",
    "\n",
    "not implemented yet, but I do have"
   ]
  },
  {
   "cell_type": "markdown",
   "metadata": {},
   "source": [
    "## Weizmann Horses\n",
    "\n",
    "http://www.msri.org/people/members/eranb/\n",
    " \n",
    "\"The Weizmann horse dataset (Borenstein & Ullman, 2008) consists of 328 binary images of size\n",
    "200×240.\"\n",
    "\n",
    "\n",
    "\n",
    "Sparse autoregressive networks  (2016)  \n",
    "http://128.84.21.199/pdf/1511.04776v3.pdf\n",
    " "
   ]
  },
  {
   "cell_type": "markdown",
   "metadata": {},
   "source": [
    "## Caltech Faces\n",
    "\n",
    "Fergus, Robert, Perona, Pietro, and Zisserman, Andrew. Object class recognition by unsupervised\n",
    "scale-invariant learning. In Conference on Computer Vision and Pattern Recognition, volume 2,\n",
    "pp. 264–271, 2003\n",
    "\n",
    "\n",
    "450 high-resolution color images; downsampled  to 200×150×3, which are 90,000 dimensions"
   ]
  },
  {
   "cell_type": "markdown",
   "metadata": {},
   "source": [
    "## Sketchy\n",
    "\n",
    "http://sketchy.eye.gatech.edu/\n",
    "\n",
    " 75,471 sketches of 12,500 objects in  125 categories "
   ]
  },
  {
   "cell_type": "code",
   "execution_count": null,
   "metadata": {
    "collapsed": true
   },
   "outputs": [],
   "source": []
  },
  {
   "cell_type": "code",
   "execution_count": null,
   "metadata": {
    "collapsed": true
   },
   "outputs": [],
   "source": []
  },
  {
   "cell_type": "code",
   "execution_count": null,
   "metadata": {
    "collapsed": true
   },
   "outputs": [],
   "source": []
  },
  {
   "cell_type": "markdown",
   "metadata": {},
   "source": [
    "### BinaryConnect Preprocessing\n",
    "\n",
    "\n",
    "BinaryConnect:  transforms cifar10 and svhn \n",
    "http://arxiv.org/pdf/1511.00363v3.pdf\n",
    "\n",
    "\"We preprocess the data using global contrast normalization nd ZCA whitening\"\n",
    "\n",
    "see: https://github.com/MatthieuCourbariaux/BinaryConnect\n",
    "\n",
    "note:  MNIST should be 'permutation invariant' => no conv nets\n"
   ]
  },
  {
   "cell_type": "markdown",
   "metadata": {},
   "source": [
    "## IWAE\n",
    "\n",
    "### Binaries datasets \n",
    "\n",
    "<pre>\n",
    "class BinarizedDatasetTheano():\n",
    " \n",
    "     def minibatchIindex_minibatch_size(self, index, minibatch_size, srng, subdataset):\n",
    "        data = self.data[subdataset][index*minibatch_size: (index+1)*minibatch_size]\n",
    "        binary_data = T.cast(T.le(srng.uniform(data.shape), data), data.dtype)\n",
    "        return binary_data\n",
    "</pre>\n",
    "\n",
    "Only Omniglot is really binarizes this way (I think) since we have MNIST already binarized\n",
    "\n",
    "Also: binarization can be fixed or shuffled (?), and this seems to affect things\n",
    "See the paper for details\n",
    "\n",
    " - def binarized_shuffled_omniglot(n_validation=1345):\n",
    " - binarized_mnist_fixed_binarization():\n",
    " \n",
    "Can we binarize others ?\n",
    "\n",
    "\n",
    "### Omniglot  (some key papers)\n",
    "\n",
    "http://cims.nyu.edu/~brenden/LakeEtAl2011CogSci.pdf\n",
    "\n",
    "http://web.mit.edu/cocosci/Papers/Science-2015-Lake-1332-8.pdf\n",
    "\n",
    "\n",
    "http://jmlr.org/proceedings/papers/v48/santoro16.pdf\n",
    "\n",
    "http://videolectures.net/site/normal_dl/tag=1005027/icml2015_grosse_fisher_matrix_01.pdf\n",
    "\n",
    "https://www.fields.utoronto.ca/programs/scientific/14-15/bigdata/machine/slides/rg.pdf\n",
    "\n",
    "### DL summer School (with key results)\n",
    "http://shakirm.com/slides/DLSummerSchool_Aug2016_compress.pdf"
   ]
  },
  {
   "cell_type": "markdown",
   "metadata": {
    "ExecuteTime": {
     "end_time": "2016-09-21T22:24:57.690697",
     "start_time": "2016-09-22T05:10:31.251Z"
    }
   },
   "source": [
    "\n"
   ]
  },
  {
   "cell_type": "markdown",
   "metadata": {},
   "source": [
    "### Claimed Results\n",
    "\n",
    "(may have details on how to preprocess and augment these datasets)\n",
    "\n",
    "http://rodrigob.github.io/are_we_there_yet/build/classification_datasets_results.html"
   ]
  },
  {
   "cell_type": "markdown",
   "metadata": {
    "ExecuteTime": {
     "end_time": "2016-09-21T22:57:58.839210",
     "start_time": "2016-09-21T22:57:58.835385"
    }
   },
   "source": []
  },
  {
   "cell_type": "markdown",
   "metadata": {
    "ExecuteTime": {
     "end_time": "2016-09-21T22:58:48.827481",
     "start_time": "2016-09-21T22:58:48.823576"
    }
   },
   "source": [
    "## IRBM\n",
    "\n",
    "https://github.com/MarcCote/iRBM\n",
    "\n",
    "Evaluations:  AIS, NLL\n",
    "\"Average NLL on CalTech101 Silhouettes test set estimated using AIS with 100,000 intermediate distributions and 5000 chains\"\n",
    "\n",
    "NLL = negative log likeliehood\n",
    "\n",
    "No post classification--should use L2-SVM ?\n",
    "\n",
    "\n",
    "\n",
    "\n",
    "\n"
   ]
  },
  {
   "cell_type": "markdown",
   "metadata": {},
   "source": [
    "## TINY\n",
    "\n",
    "The CIFAR10 dataset of natural images.\n",
    "\n",
    "This dataset is a labeled subset of the 80 million tiny images dataset [TINY].\n",
    "\n",
    "Lets use that too !\n",
    "\n",
    "see :  http://fuel.readthedocs.io/en/latest/api/dataset.html#module-fuel.datasets.cifar10\n",
    "\n",
    "&: https://github.com/cioc/PyTinyImage\n",
    "\n",
    "can we scale up ?  what woudl this take ?\n",
    "\n",
    "http://www.cs.ubc.ca/~lowe/525/papers/torralba08.pdf\n",
    "\n",
    "#### thesis on RBMs applied to cifar\n",
    "\n",
    "https://www.cs.toronto.edu/~kriz/learning-features-2009-TR.pdf\n",
    "\n",
    "see:  https://courses.cs.washington.edu/courses/cse590v/08au/retrieve.ppt"
   ]
  },
  {
   "cell_type": "markdown",
   "metadata": {},
   "source": [
    "### Hinton's original example of text clustering ?"
   ]
  },
  {
   "cell_type": "markdown",
   "metadata": {
    "collapsed": true
   },
   "source": [
    "### atari games\n",
    "\n",
    "Deep AutoRegressive Networks\n",
    "http://arxiv.org/pdf/1310.8499v2.pdf\n",
    "    "
   ]
  },
  {
   "cell_type": "code",
   "execution_count": 126,
   "metadata": {
    "ExecuteTime": {
     "end_time": "2016-09-28T23:02:06.568000",
     "start_time": "2016-09-28T23:02:06.447331"
    },
    "collapsed": false
   },
   "outputs": [
    {
     "name": "stdout",
     "output_type": "stream",
     "text": [
      "\u001b[35mdata/align/alignmnist.npz\u001b[m\u001b[m\r\n"
     ]
    }
   ],
   "source": [
    "!ls data/align/alignmnist.npz"
   ]
  },
  {
   "cell_type": "code",
   "execution_count": 128,
   "metadata": {
    "ExecuteTime": {
     "end_time": "2016-09-28T23:03:05.284125",
     "start_time": "2016-09-28T23:03:05.250801"
    },
    "collapsed": false,
    "scrolled": true
   },
   "outputs": [],
   "source": [
    "import gzip\n",
    "import numpy as np\n",
    "\n",
    "data = np.load(\"data/align/alignmnist.npz\", mmap_mode='r')\n"
   ]
  },
  {
   "cell_type": "code",
   "execution_count": 137,
   "metadata": {
    "ExecuteTime": {
     "end_time": "2016-09-28T23:07:52.641223",
     "start_time": "2016-09-28T23:07:41.330558"
    },
    "collapsed": false
   },
   "outputs": [
    {
     "name": "stdout",
     "output_type": "stream",
     "text": [
      "(10, 28, 28) (10,)\n"
     ]
    }
   ],
   "source": [
    "# memory map of very large file\n",
    "# need to modify to use RBM at scale\n",
    "# or we can scale as we see fit\n",
    "\n",
    "# and use to classify other minst data\n",
    "# (not sure if these are included or not, i forget...i think so)\n",
    "x = data['x']\n",
    "x = x[0:10,:,:]\n",
    "y = data['y']\n",
    "y = y.astype(int)\n",
    "y = y[0:10]\n",
    "\n",
    "print x.shape, y.shape"
   ]
  },
  {
   "cell_type": "code",
   "execution_count": 135,
   "metadata": {
    "ExecuteTime": {
     "end_time": "2016-09-28T23:04:04.808625",
     "start_time": "2016-09-28T23:04:04.622607"
    },
    "collapsed": false
   },
   "outputs": [
    {
     "data": {
      "image/png": "[encoded data removed]",
      "text/plain": [
       "<matplotlib.figure.Figure at 0x11969ded0>"
      ]
     },
     "metadata": {},
     "output_type": "display_data"
    }
   ],
   "source": [
    "show_image(x[5])"
   ]
  },
  {
   "cell_type": "markdown",
   "metadata": {},
   "source": [
    "## AIS  \n",
    "\n",
    "http://www.cs.cmu.edu/~rsalakhu/papers/bm.pdf\n",
    "\n",
    "https://github.com/MarcCote/iRBM/blob/master/iRBM/misc/annealed_importance_sampling.py"
   ]
  },
  {
   "cell_type": "code",
   "execution_count": null,
   "metadata": {
    "collapsed": true
   },
   "outputs": [],
   "source": []
  }
 ],
 "metadata": {
  "anaconda-cloud": {},
  "kernelspec": {
   "display_name": "Python [Root]",
   "language": "python",
   "name": "Python [Root]"
  },
  "language_info": {
   "codemirror_mode": {
    "name": "ipython",
    "version": 2
   },
   "file_extension": ".py",
   "mimetype": "text/x-python",
   "name": "python",
   "nbconvert_exporter": "python",
   "pygments_lexer": "ipython2",
   "version": "2.7.12"
  }
 },
 "nbformat": 4,
 "nbformat_minor": 0
}
